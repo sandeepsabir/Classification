{
 "cells": [
  {
   "cell_type": "markdown",
   "id": "3e50f892",
   "metadata": {},
   "source": [
    "# Task 1: Classification"
   ]
  },
  {
   "cell_type": "markdown",
   "id": "41c10d52",
   "metadata": {},
   "source": [
    "Here, I am creating the Classification models with Logistic Regression, KNN, Decision Tree and SVM models. Then, done hyperparameter tuning with GridSearchCV and compared the results with the existing evaluation result. Then, plotted the Confusion Matrix and generated the Classification Report."
   ]
  },
  {
   "cell_type": "markdown",
   "id": "0af8f37d",
   "metadata": {},
   "source": [
    "# Data Exploration"
   ]
  },
  {
   "cell_type": "markdown",
   "id": "05d03720",
   "metadata": {},
   "source": [
    "Initially, I imported Loan dataset. Then, I dropped the first two columns from the dataset, which is not neccessary. After that, I done the exploration of the dataset."
   ]
  },
  {
   "cell_type": "code",
   "execution_count": 253,
   "id": "3e204987",
   "metadata": {},
   "outputs": [
    {
     "name": "stdout",
     "output_type": "stream",
     "text": [
      "(346, 8)\n"
     ]
    }
   ],
   "source": [
    "# Import libraries\n",
    "import pandas as pd\n",
    "import matplotlib.pyplot as plt\n",
    "import seaborn as sb\n",
    "import numpy as np\n",
    "from sklearn.model_selection import train_test_split\n",
    "from sklearn.preprocessing import LabelEncoder\n",
    "\n",
    "# Imported loan dataset\n",
    "loan_df = pd.read_csv('loan_train.csv')\n",
    "\n",
    "# Dropped first two columns\n",
    "loan_df = loan_df.drop(loan_df.columns[[0, 1]], axis=1)\n",
    "\n",
    "# Find number of rows and columns of the dataset\n",
    "print(loan_df.shape)"
   ]
  },
  {
   "cell_type": "markdown",
   "id": "d05a5227",
   "metadata": {},
   "source": [
    "After dropping the unnecessary columns and running the shape function of the dataset, we can see that the dataset has 346 rows and 8 columns. Then, I checked the first 5 rows of the dataset by running the head function of the dataset."
   ]
  },
  {
   "cell_type": "code",
   "execution_count": 254,
   "id": "a54d6947",
   "metadata": {},
   "outputs": [
    {
     "data": {
      "text/html": [
       "<div>\n",
       "<style scoped>\n",
       "    .dataframe tbody tr th:only-of-type {\n",
       "        vertical-align: middle;\n",
       "    }\n",
       "\n",
       "    .dataframe tbody tr th {\n",
       "        vertical-align: top;\n",
       "    }\n",
       "\n",
       "    .dataframe thead th {\n",
       "        text-align: right;\n",
       "    }\n",
       "</style>\n",
       "<table border=\"1\" class=\"dataframe\">\n",
       "  <thead>\n",
       "    <tr style=\"text-align: right;\">\n",
       "      <th></th>\n",
       "      <th>loan_status</th>\n",
       "      <th>Principal</th>\n",
       "      <th>terms</th>\n",
       "      <th>effective_date</th>\n",
       "      <th>due_date</th>\n",
       "      <th>age</th>\n",
       "      <th>education</th>\n",
       "      <th>Gender</th>\n",
       "    </tr>\n",
       "  </thead>\n",
       "  <tbody>\n",
       "    <tr>\n",
       "      <th>0</th>\n",
       "      <td>PAIDOFF</td>\n",
       "      <td>1000</td>\n",
       "      <td>30</td>\n",
       "      <td>9/8/2016</td>\n",
       "      <td>10/7/2016</td>\n",
       "      <td>45</td>\n",
       "      <td>High School or Below</td>\n",
       "      <td>male</td>\n",
       "    </tr>\n",
       "    <tr>\n",
       "      <th>1</th>\n",
       "      <td>PAIDOFF</td>\n",
       "      <td>1000</td>\n",
       "      <td>30</td>\n",
       "      <td>9/8/2016</td>\n",
       "      <td>10/7/2016</td>\n",
       "      <td>33</td>\n",
       "      <td>Bechalor</td>\n",
       "      <td>female</td>\n",
       "    </tr>\n",
       "    <tr>\n",
       "      <th>2</th>\n",
       "      <td>PAIDOFF</td>\n",
       "      <td>1000</td>\n",
       "      <td>15</td>\n",
       "      <td>9/8/2016</td>\n",
       "      <td>9/22/2016</td>\n",
       "      <td>27</td>\n",
       "      <td>college</td>\n",
       "      <td>male</td>\n",
       "    </tr>\n",
       "    <tr>\n",
       "      <th>3</th>\n",
       "      <td>PAIDOFF</td>\n",
       "      <td>1000</td>\n",
       "      <td>30</td>\n",
       "      <td>9/9/2016</td>\n",
       "      <td>10/8/2016</td>\n",
       "      <td>28</td>\n",
       "      <td>college</td>\n",
       "      <td>female</td>\n",
       "    </tr>\n",
       "    <tr>\n",
       "      <th>4</th>\n",
       "      <td>PAIDOFF</td>\n",
       "      <td>1000</td>\n",
       "      <td>30</td>\n",
       "      <td>9/9/2016</td>\n",
       "      <td>10/8/2016</td>\n",
       "      <td>29</td>\n",
       "      <td>college</td>\n",
       "      <td>male</td>\n",
       "    </tr>\n",
       "  </tbody>\n",
       "</table>\n",
       "</div>"
      ],
      "text/plain": [
       "  loan_status  Principal  terms effective_date   due_date  age  \\\n",
       "0     PAIDOFF       1000     30       9/8/2016  10/7/2016   45   \n",
       "1     PAIDOFF       1000     30       9/8/2016  10/7/2016   33   \n",
       "2     PAIDOFF       1000     15       9/8/2016  9/22/2016   27   \n",
       "3     PAIDOFF       1000     30       9/9/2016  10/8/2016   28   \n",
       "4     PAIDOFF       1000     30       9/9/2016  10/8/2016   29   \n",
       "\n",
       "              education  Gender  \n",
       "0  High School or Below    male  \n",
       "1              Bechalor  female  \n",
       "2               college    male  \n",
       "3               college  female  \n",
       "4               college    male  "
      ]
     },
     "execution_count": 254,
     "metadata": {},
     "output_type": "execute_result"
    }
   ],
   "source": [
    "# Get first rows of the dataset\n",
    "loan_df.head()"
   ]
  },
  {
   "cell_type": "code",
   "execution_count": 255,
   "id": "30a83942",
   "metadata": {},
   "outputs": [
    {
     "name": "stdout",
     "output_type": "stream",
     "text": [
      "<class 'pandas.core.frame.DataFrame'>\n",
      "RangeIndex: 346 entries, 0 to 345\n",
      "Data columns (total 8 columns):\n",
      " #   Column          Non-Null Count  Dtype \n",
      "---  ------          --------------  ----- \n",
      " 0   loan_status     346 non-null    object\n",
      " 1   Principal       346 non-null    int64 \n",
      " 2   terms           346 non-null    int64 \n",
      " 3   effective_date  346 non-null    object\n",
      " 4   due_date        346 non-null    object\n",
      " 5   age             346 non-null    int64 \n",
      " 6   education       346 non-null    object\n",
      " 7   Gender          346 non-null    object\n",
      "dtypes: int64(3), object(5)\n",
      "memory usage: 21.8+ KB\n"
     ]
    }
   ],
   "source": [
    "# Get column datatypes and check for null values\n",
    "loan_df.info()"
   ]
  },
  {
   "cell_type": "markdown",
   "id": "57033e5c",
   "metadata": {},
   "source": [
    "After running the info function we got the data types of the columns and all 8 columns have Non-Null Count 346. That means, there is no missing values. We can confirm this by running 'loan_df.isnull().sum()' function."
   ]
  },
  {
   "cell_type": "code",
   "execution_count": 256,
   "id": "b0a0f7f4",
   "metadata": {},
   "outputs": [
    {
     "data": {
      "text/plain": [
       "loan_status       0\n",
       "Principal         0\n",
       "terms             0\n",
       "effective_date    0\n",
       "due_date          0\n",
       "age               0\n",
       "education         0\n",
       "Gender            0\n",
       "dtype: int64"
      ]
     },
     "execution_count": 256,
     "metadata": {},
     "output_type": "execute_result"
    }
   ],
   "source": [
    "# Check for null values\n",
    "loan_df.isnull().sum()"
   ]
  },
  {
   "cell_type": "markdown",
   "id": "e0472a82",
   "metadata": {},
   "source": [
    "Here it is confirmed that, there is no missing values. Now, I am checking for duplicate values."
   ]
  },
  {
   "cell_type": "code",
   "execution_count": 257,
   "id": "732b2701",
   "metadata": {},
   "outputs": [
    {
     "data": {
      "text/html": [
       "<div>\n",
       "<style scoped>\n",
       "    .dataframe tbody tr th:only-of-type {\n",
       "        vertical-align: middle;\n",
       "    }\n",
       "\n",
       "    .dataframe tbody tr th {\n",
       "        vertical-align: top;\n",
       "    }\n",
       "\n",
       "    .dataframe thead th {\n",
       "        text-align: right;\n",
       "    }\n",
       "</style>\n",
       "<table border=\"1\" class=\"dataframe\">\n",
       "  <thead>\n",
       "    <tr style=\"text-align: right;\">\n",
       "      <th></th>\n",
       "      <th>loan_status</th>\n",
       "      <th>Principal</th>\n",
       "      <th>terms</th>\n",
       "      <th>effective_date</th>\n",
       "      <th>due_date</th>\n",
       "      <th>age</th>\n",
       "      <th>education</th>\n",
       "      <th>Gender</th>\n",
       "    </tr>\n",
       "  </thead>\n",
       "  <tbody>\n",
       "    <tr>\n",
       "      <th>13</th>\n",
       "      <td>PAIDOFF</td>\n",
       "      <td>800</td>\n",
       "      <td>15</td>\n",
       "      <td>9/10/2016</td>\n",
       "      <td>9/24/2016</td>\n",
       "      <td>26</td>\n",
       "      <td>college</td>\n",
       "      <td>male</td>\n",
       "    </tr>\n",
       "    <tr>\n",
       "      <th>18</th>\n",
       "      <td>PAIDOFF</td>\n",
       "      <td>1000</td>\n",
       "      <td>30</td>\n",
       "      <td>9/10/2016</td>\n",
       "      <td>10/9/2016</td>\n",
       "      <td>26</td>\n",
       "      <td>college</td>\n",
       "      <td>male</td>\n",
       "    </tr>\n",
       "    <tr>\n",
       "      <th>29</th>\n",
       "      <td>PAIDOFF</td>\n",
       "      <td>1000</td>\n",
       "      <td>30</td>\n",
       "      <td>9/11/2016</td>\n",
       "      <td>10/10/2016</td>\n",
       "      <td>37</td>\n",
       "      <td>college</td>\n",
       "      <td>male</td>\n",
       "    </tr>\n",
       "    <tr>\n",
       "      <th>47</th>\n",
       "      <td>PAIDOFF</td>\n",
       "      <td>1000</td>\n",
       "      <td>30</td>\n",
       "      <td>9/11/2016</td>\n",
       "      <td>10/10/2016</td>\n",
       "      <td>27</td>\n",
       "      <td>High School or Below</td>\n",
       "      <td>male</td>\n",
       "    </tr>\n",
       "    <tr>\n",
       "      <th>52</th>\n",
       "      <td>PAIDOFF</td>\n",
       "      <td>1000</td>\n",
       "      <td>30</td>\n",
       "      <td>9/11/2016</td>\n",
       "      <td>10/10/2016</td>\n",
       "      <td>34</td>\n",
       "      <td>High School or Below</td>\n",
       "      <td>male</td>\n",
       "    </tr>\n",
       "    <tr>\n",
       "      <th>62</th>\n",
       "      <td>PAIDOFF</td>\n",
       "      <td>1000</td>\n",
       "      <td>15</td>\n",
       "      <td>9/11/2016</td>\n",
       "      <td>9/25/2016</td>\n",
       "      <td>25</td>\n",
       "      <td>college</td>\n",
       "      <td>male</td>\n",
       "    </tr>\n",
       "    <tr>\n",
       "      <th>69</th>\n",
       "      <td>PAIDOFF</td>\n",
       "      <td>800</td>\n",
       "      <td>15</td>\n",
       "      <td>9/11/2016</td>\n",
       "      <td>9/25/2016</td>\n",
       "      <td>33</td>\n",
       "      <td>college</td>\n",
       "      <td>male</td>\n",
       "    </tr>\n",
       "    <tr>\n",
       "      <th>79</th>\n",
       "      <td>PAIDOFF</td>\n",
       "      <td>1000</td>\n",
       "      <td>30</td>\n",
       "      <td>9/11/2016</td>\n",
       "      <td>10/10/2016</td>\n",
       "      <td>22</td>\n",
       "      <td>High School or Below</td>\n",
       "      <td>male</td>\n",
       "    </tr>\n",
       "    <tr>\n",
       "      <th>86</th>\n",
       "      <td>PAIDOFF</td>\n",
       "      <td>1000</td>\n",
       "      <td>30</td>\n",
       "      <td>9/11/2016</td>\n",
       "      <td>10/10/2016</td>\n",
       "      <td>31</td>\n",
       "      <td>High School or Below</td>\n",
       "      <td>male</td>\n",
       "    </tr>\n",
       "    <tr>\n",
       "      <th>89</th>\n",
       "      <td>PAIDOFF</td>\n",
       "      <td>800</td>\n",
       "      <td>15</td>\n",
       "      <td>9/11/2016</td>\n",
       "      <td>9/25/2016</td>\n",
       "      <td>29</td>\n",
       "      <td>college</td>\n",
       "      <td>male</td>\n",
       "    </tr>\n",
       "    <tr>\n",
       "      <th>91</th>\n",
       "      <td>PAIDOFF</td>\n",
       "      <td>1000</td>\n",
       "      <td>30</td>\n",
       "      <td>9/11/2016</td>\n",
       "      <td>10/10/2016</td>\n",
       "      <td>27</td>\n",
       "      <td>college</td>\n",
       "      <td>male</td>\n",
       "    </tr>\n",
       "    <tr>\n",
       "      <th>92</th>\n",
       "      <td>PAIDOFF</td>\n",
       "      <td>1000</td>\n",
       "      <td>30</td>\n",
       "      <td>9/11/2016</td>\n",
       "      <td>10/10/2016</td>\n",
       "      <td>33</td>\n",
       "      <td>college</td>\n",
       "      <td>male</td>\n",
       "    </tr>\n",
       "    <tr>\n",
       "      <th>93</th>\n",
       "      <td>PAIDOFF</td>\n",
       "      <td>1000</td>\n",
       "      <td>30</td>\n",
       "      <td>9/11/2016</td>\n",
       "      <td>10/10/2016</td>\n",
       "      <td>28</td>\n",
       "      <td>college</td>\n",
       "      <td>male</td>\n",
       "    </tr>\n",
       "    <tr>\n",
       "      <th>99</th>\n",
       "      <td>PAIDOFF</td>\n",
       "      <td>1000</td>\n",
       "      <td>30</td>\n",
       "      <td>9/11/2016</td>\n",
       "      <td>10/10/2016</td>\n",
       "      <td>34</td>\n",
       "      <td>college</td>\n",
       "      <td>male</td>\n",
       "    </tr>\n",
       "    <tr>\n",
       "      <th>100</th>\n",
       "      <td>PAIDOFF</td>\n",
       "      <td>1000</td>\n",
       "      <td>30</td>\n",
       "      <td>9/11/2016</td>\n",
       "      <td>10/10/2016</td>\n",
       "      <td>22</td>\n",
       "      <td>High School or Below</td>\n",
       "      <td>male</td>\n",
       "    </tr>\n",
       "    <tr>\n",
       "      <th>103</th>\n",
       "      <td>PAIDOFF</td>\n",
       "      <td>1000</td>\n",
       "      <td>30</td>\n",
       "      <td>9/11/2016</td>\n",
       "      <td>10/10/2016</td>\n",
       "      <td>33</td>\n",
       "      <td>college</td>\n",
       "      <td>male</td>\n",
       "    </tr>\n",
       "    <tr>\n",
       "      <th>110</th>\n",
       "      <td>PAIDOFF</td>\n",
       "      <td>800</td>\n",
       "      <td>15</td>\n",
       "      <td>9/11/2016</td>\n",
       "      <td>9/25/2016</td>\n",
       "      <td>43</td>\n",
       "      <td>High School or Below</td>\n",
       "      <td>male</td>\n",
       "    </tr>\n",
       "    <tr>\n",
       "      <th>113</th>\n",
       "      <td>PAIDOFF</td>\n",
       "      <td>800</td>\n",
       "      <td>15</td>\n",
       "      <td>9/11/2016</td>\n",
       "      <td>9/25/2016</td>\n",
       "      <td>24</td>\n",
       "      <td>college</td>\n",
       "      <td>male</td>\n",
       "    </tr>\n",
       "    <tr>\n",
       "      <th>114</th>\n",
       "      <td>PAIDOFF</td>\n",
       "      <td>1000</td>\n",
       "      <td>30</td>\n",
       "      <td>9/11/2016</td>\n",
       "      <td>10/10/2016</td>\n",
       "      <td>30</td>\n",
       "      <td>High School or Below</td>\n",
       "      <td>male</td>\n",
       "    </tr>\n",
       "    <tr>\n",
       "      <th>119</th>\n",
       "      <td>PAIDOFF</td>\n",
       "      <td>1000</td>\n",
       "      <td>30</td>\n",
       "      <td>9/11/2016</td>\n",
       "      <td>10/10/2016</td>\n",
       "      <td>28</td>\n",
       "      <td>High School or Below</td>\n",
       "      <td>male</td>\n",
       "    </tr>\n",
       "    <tr>\n",
       "      <th>122</th>\n",
       "      <td>PAIDOFF</td>\n",
       "      <td>1000</td>\n",
       "      <td>30</td>\n",
       "      <td>9/11/2016</td>\n",
       "      <td>10/10/2016</td>\n",
       "      <td>30</td>\n",
       "      <td>High School or Below</td>\n",
       "      <td>male</td>\n",
       "    </tr>\n",
       "    <tr>\n",
       "      <th>156</th>\n",
       "      <td>PAIDOFF</td>\n",
       "      <td>1000</td>\n",
       "      <td>30</td>\n",
       "      <td>9/12/2016</td>\n",
       "      <td>10/11/2016</td>\n",
       "      <td>27</td>\n",
       "      <td>High School or Below</td>\n",
       "      <td>male</td>\n",
       "    </tr>\n",
       "    <tr>\n",
       "      <th>166</th>\n",
       "      <td>PAIDOFF</td>\n",
       "      <td>1000</td>\n",
       "      <td>30</td>\n",
       "      <td>9/12/2016</td>\n",
       "      <td>10/11/2016</td>\n",
       "      <td>24</td>\n",
       "      <td>college</td>\n",
       "      <td>male</td>\n",
       "    </tr>\n",
       "    <tr>\n",
       "      <th>169</th>\n",
       "      <td>PAIDOFF</td>\n",
       "      <td>1000</td>\n",
       "      <td>15</td>\n",
       "      <td>9/12/2016</td>\n",
       "      <td>9/26/2016</td>\n",
       "      <td>30</td>\n",
       "      <td>college</td>\n",
       "      <td>male</td>\n",
       "    </tr>\n",
       "    <tr>\n",
       "      <th>179</th>\n",
       "      <td>PAIDOFF</td>\n",
       "      <td>1000</td>\n",
       "      <td>30</td>\n",
       "      <td>9/12/2016</td>\n",
       "      <td>10/11/2016</td>\n",
       "      <td>30</td>\n",
       "      <td>High School or Below</td>\n",
       "      <td>male</td>\n",
       "    </tr>\n",
       "    <tr>\n",
       "      <th>181</th>\n",
       "      <td>PAIDOFF</td>\n",
       "      <td>1000</td>\n",
       "      <td>30</td>\n",
       "      <td>9/12/2016</td>\n",
       "      <td>10/11/2016</td>\n",
       "      <td>27</td>\n",
       "      <td>High School or Below</td>\n",
       "      <td>male</td>\n",
       "    </tr>\n",
       "    <tr>\n",
       "      <th>182</th>\n",
       "      <td>PAIDOFF</td>\n",
       "      <td>1000</td>\n",
       "      <td>30</td>\n",
       "      <td>9/12/2016</td>\n",
       "      <td>10/11/2016</td>\n",
       "      <td>35</td>\n",
       "      <td>High School or Below</td>\n",
       "      <td>male</td>\n",
       "    </tr>\n",
       "    <tr>\n",
       "      <th>187</th>\n",
       "      <td>PAIDOFF</td>\n",
       "      <td>1000</td>\n",
       "      <td>30</td>\n",
       "      <td>9/12/2016</td>\n",
       "      <td>10/11/2016</td>\n",
       "      <td>29</td>\n",
       "      <td>High School or Below</td>\n",
       "      <td>male</td>\n",
       "    </tr>\n",
       "    <tr>\n",
       "      <th>193</th>\n",
       "      <td>PAIDOFF</td>\n",
       "      <td>1000</td>\n",
       "      <td>15</td>\n",
       "      <td>9/12/2016</td>\n",
       "      <td>9/26/2016</td>\n",
       "      <td>25</td>\n",
       "      <td>High School or Below</td>\n",
       "      <td>male</td>\n",
       "    </tr>\n",
       "    <tr>\n",
       "      <th>202</th>\n",
       "      <td>PAIDOFF</td>\n",
       "      <td>1000</td>\n",
       "      <td>30</td>\n",
       "      <td>9/12/2016</td>\n",
       "      <td>10/11/2016</td>\n",
       "      <td>30</td>\n",
       "      <td>High School or Below</td>\n",
       "      <td>male</td>\n",
       "    </tr>\n",
       "    <tr>\n",
       "      <th>253</th>\n",
       "      <td>PAIDOFF</td>\n",
       "      <td>1000</td>\n",
       "      <td>30</td>\n",
       "      <td>9/14/2016</td>\n",
       "      <td>10/13/2016</td>\n",
       "      <td>29</td>\n",
       "      <td>college</td>\n",
       "      <td>male</td>\n",
       "    </tr>\n",
       "    <tr>\n",
       "      <th>257</th>\n",
       "      <td>PAIDOFF</td>\n",
       "      <td>1000</td>\n",
       "      <td>30</td>\n",
       "      <td>9/14/2016</td>\n",
       "      <td>10/13/2016</td>\n",
       "      <td>29</td>\n",
       "      <td>High School or Below</td>\n",
       "      <td>male</td>\n",
       "    </tr>\n",
       "    <tr>\n",
       "      <th>291</th>\n",
       "      <td>COLLECTION</td>\n",
       "      <td>1000</td>\n",
       "      <td>30</td>\n",
       "      <td>9/11/2016</td>\n",
       "      <td>10/10/2016</td>\n",
       "      <td>30</td>\n",
       "      <td>High School or Below</td>\n",
       "      <td>female</td>\n",
       "    </tr>\n",
       "    <tr>\n",
       "      <th>294</th>\n",
       "      <td>COLLECTION</td>\n",
       "      <td>1000</td>\n",
       "      <td>30</td>\n",
       "      <td>9/11/2016</td>\n",
       "      <td>10/10/2016</td>\n",
       "      <td>23</td>\n",
       "      <td>High School or Below</td>\n",
       "      <td>male</td>\n",
       "    </tr>\n",
       "    <tr>\n",
       "      <th>311</th>\n",
       "      <td>COLLECTION</td>\n",
       "      <td>1000</td>\n",
       "      <td>30</td>\n",
       "      <td>9/11/2016</td>\n",
       "      <td>10/10/2016</td>\n",
       "      <td>26</td>\n",
       "      <td>High School or Below</td>\n",
       "      <td>male</td>\n",
       "    </tr>\n",
       "    <tr>\n",
       "      <th>326</th>\n",
       "      <td>COLLECTION</td>\n",
       "      <td>1000</td>\n",
       "      <td>30</td>\n",
       "      <td>9/11/2016</td>\n",
       "      <td>10/10/2016</td>\n",
       "      <td>32</td>\n",
       "      <td>college</td>\n",
       "      <td>male</td>\n",
       "    </tr>\n",
       "    <tr>\n",
       "      <th>330</th>\n",
       "      <td>COLLECTION</td>\n",
       "      <td>1000</td>\n",
       "      <td>30</td>\n",
       "      <td>9/11/2016</td>\n",
       "      <td>10/10/2016</td>\n",
       "      <td>26</td>\n",
       "      <td>High School or Below</td>\n",
       "      <td>male</td>\n",
       "    </tr>\n",
       "    <tr>\n",
       "      <th>337</th>\n",
       "      <td>COLLECTION</td>\n",
       "      <td>1000</td>\n",
       "      <td>15</td>\n",
       "      <td>9/11/2016</td>\n",
       "      <td>9/25/2016</td>\n",
       "      <td>30</td>\n",
       "      <td>college</td>\n",
       "      <td>male</td>\n",
       "    </tr>\n",
       "    <tr>\n",
       "      <th>338</th>\n",
       "      <td>COLLECTION</td>\n",
       "      <td>800</td>\n",
       "      <td>15</td>\n",
       "      <td>9/11/2016</td>\n",
       "      <td>9/25/2016</td>\n",
       "      <td>35</td>\n",
       "      <td>High School or Below</td>\n",
       "      <td>male</td>\n",
       "    </tr>\n",
       "    <tr>\n",
       "      <th>342</th>\n",
       "      <td>COLLECTION</td>\n",
       "      <td>1000</td>\n",
       "      <td>30</td>\n",
       "      <td>9/11/2016</td>\n",
       "      <td>10/10/2016</td>\n",
       "      <td>25</td>\n",
       "      <td>High School or Below</td>\n",
       "      <td>male</td>\n",
       "    </tr>\n",
       "  </tbody>\n",
       "</table>\n",
       "</div>"
      ],
      "text/plain": [
       "    loan_status  Principal  terms effective_date    due_date  age  \\\n",
       "13      PAIDOFF        800     15      9/10/2016   9/24/2016   26   \n",
       "18      PAIDOFF       1000     30      9/10/2016   10/9/2016   26   \n",
       "29      PAIDOFF       1000     30      9/11/2016  10/10/2016   37   \n",
       "47      PAIDOFF       1000     30      9/11/2016  10/10/2016   27   \n",
       "52      PAIDOFF       1000     30      9/11/2016  10/10/2016   34   \n",
       "62      PAIDOFF       1000     15      9/11/2016   9/25/2016   25   \n",
       "69      PAIDOFF        800     15      9/11/2016   9/25/2016   33   \n",
       "79      PAIDOFF       1000     30      9/11/2016  10/10/2016   22   \n",
       "86      PAIDOFF       1000     30      9/11/2016  10/10/2016   31   \n",
       "89      PAIDOFF        800     15      9/11/2016   9/25/2016   29   \n",
       "91      PAIDOFF       1000     30      9/11/2016  10/10/2016   27   \n",
       "92      PAIDOFF       1000     30      9/11/2016  10/10/2016   33   \n",
       "93      PAIDOFF       1000     30      9/11/2016  10/10/2016   28   \n",
       "99      PAIDOFF       1000     30      9/11/2016  10/10/2016   34   \n",
       "100     PAIDOFF       1000     30      9/11/2016  10/10/2016   22   \n",
       "103     PAIDOFF       1000     30      9/11/2016  10/10/2016   33   \n",
       "110     PAIDOFF        800     15      9/11/2016   9/25/2016   43   \n",
       "113     PAIDOFF        800     15      9/11/2016   9/25/2016   24   \n",
       "114     PAIDOFF       1000     30      9/11/2016  10/10/2016   30   \n",
       "119     PAIDOFF       1000     30      9/11/2016  10/10/2016   28   \n",
       "122     PAIDOFF       1000     30      9/11/2016  10/10/2016   30   \n",
       "156     PAIDOFF       1000     30      9/12/2016  10/11/2016   27   \n",
       "166     PAIDOFF       1000     30      9/12/2016  10/11/2016   24   \n",
       "169     PAIDOFF       1000     15      9/12/2016   9/26/2016   30   \n",
       "179     PAIDOFF       1000     30      9/12/2016  10/11/2016   30   \n",
       "181     PAIDOFF       1000     30      9/12/2016  10/11/2016   27   \n",
       "182     PAIDOFF       1000     30      9/12/2016  10/11/2016   35   \n",
       "187     PAIDOFF       1000     30      9/12/2016  10/11/2016   29   \n",
       "193     PAIDOFF       1000     15      9/12/2016   9/26/2016   25   \n",
       "202     PAIDOFF       1000     30      9/12/2016  10/11/2016   30   \n",
       "253     PAIDOFF       1000     30      9/14/2016  10/13/2016   29   \n",
       "257     PAIDOFF       1000     30      9/14/2016  10/13/2016   29   \n",
       "291  COLLECTION       1000     30      9/11/2016  10/10/2016   30   \n",
       "294  COLLECTION       1000     30      9/11/2016  10/10/2016   23   \n",
       "311  COLLECTION       1000     30      9/11/2016  10/10/2016   26   \n",
       "326  COLLECTION       1000     30      9/11/2016  10/10/2016   32   \n",
       "330  COLLECTION       1000     30      9/11/2016  10/10/2016   26   \n",
       "337  COLLECTION       1000     15      9/11/2016   9/25/2016   30   \n",
       "338  COLLECTION        800     15      9/11/2016   9/25/2016   35   \n",
       "342  COLLECTION       1000     30      9/11/2016  10/10/2016   25   \n",
       "\n",
       "                education  Gender  \n",
       "13                college    male  \n",
       "18                college    male  \n",
       "29                college    male  \n",
       "47   High School or Below    male  \n",
       "52   High School or Below    male  \n",
       "62                college    male  \n",
       "69                college    male  \n",
       "79   High School or Below    male  \n",
       "86   High School or Below    male  \n",
       "89                college    male  \n",
       "91                college    male  \n",
       "92                college    male  \n",
       "93                college    male  \n",
       "99                college    male  \n",
       "100  High School or Below    male  \n",
       "103               college    male  \n",
       "110  High School or Below    male  \n",
       "113               college    male  \n",
       "114  High School or Below    male  \n",
       "119  High School or Below    male  \n",
       "122  High School or Below    male  \n",
       "156  High School or Below    male  \n",
       "166               college    male  \n",
       "169               college    male  \n",
       "179  High School or Below    male  \n",
       "181  High School or Below    male  \n",
       "182  High School or Below    male  \n",
       "187  High School or Below    male  \n",
       "193  High School or Below    male  \n",
       "202  High School or Below    male  \n",
       "253               college    male  \n",
       "257  High School or Below    male  \n",
       "291  High School or Below  female  \n",
       "294  High School or Below    male  \n",
       "311  High School or Below    male  \n",
       "326               college    male  \n",
       "330  High School or Below    male  \n",
       "337               college    male  \n",
       "338  High School or Below    male  \n",
       "342  High School or Below    male  "
      ]
     },
     "execution_count": 257,
     "metadata": {},
     "output_type": "execute_result"
    }
   ],
   "source": [
    "# Check for duplicates\n",
    "loan_df_dup = loan_df[loan_df.duplicated(keep='first')]\n",
    "loan_df_dup"
   ]
  },
  {
   "cell_type": "markdown",
   "id": "6d405825",
   "metadata": {},
   "source": [
    "After checking the duplicates I found that there are some duplicate rows. Now, I am going to check the count of the duplicate rows."
   ]
  },
  {
   "cell_type": "code",
   "execution_count": 258,
   "id": "846884e0",
   "metadata": {},
   "outputs": [
    {
     "data": {
      "text/plain": [
       "(40, 8)"
      ]
     },
     "execution_count": 258,
     "metadata": {},
     "output_type": "execute_result"
    }
   ],
   "source": [
    "# Check number of duplicate rows\n",
    "loan_df_dup.shape"
   ]
  },
  {
   "cell_type": "markdown",
   "id": "62f388fe",
   "metadata": {},
   "source": [
    "There are 40 duplicate rows. Now, I am going to delete those rows."
   ]
  },
  {
   "cell_type": "code",
   "execution_count": 259,
   "id": "04afbdd0",
   "metadata": {},
   "outputs": [
    {
     "data": {
      "text/plain": [
       "(306, 8)"
      ]
     },
     "execution_count": 259,
     "metadata": {},
     "output_type": "execute_result"
    }
   ],
   "source": [
    "loan_df = loan_df.drop_duplicates(keep='first')\n",
    "loan_df.shape"
   ]
  },
  {
   "cell_type": "markdown",
   "id": "1e3af761",
   "metadata": {},
   "source": [
    "After dropping 40 rows, now the dataset dropped to 306 rows. I am dropping columns 'effective_date' and 'due_date' from the dataframe since it is not significant for the classification"
   ]
  },
  {
   "cell_type": "code",
   "execution_count": 260,
   "id": "55f2b237",
   "metadata": {},
   "outputs": [],
   "source": [
    "# Dropped columns 'effective_date' and 'due_date'\n",
    "loan_df = loan_df.drop(['effective_date', 'due_date'], axis=1)"
   ]
  },
  {
   "cell_type": "markdown",
   "id": "74790871",
   "metadata": {},
   "source": [
    "Now, I am going to transform categorical features to numeric"
   ]
  },
  {
   "cell_type": "code",
   "execution_count": 261,
   "id": "70d8dd99",
   "metadata": {},
   "outputs": [
    {
     "data": {
      "text/html": [
       "<div>\n",
       "<style scoped>\n",
       "    .dataframe tbody tr th:only-of-type {\n",
       "        vertical-align: middle;\n",
       "    }\n",
       "\n",
       "    .dataframe tbody tr th {\n",
       "        vertical-align: top;\n",
       "    }\n",
       "\n",
       "    .dataframe thead th {\n",
       "        text-align: right;\n",
       "    }\n",
       "</style>\n",
       "<table border=\"1\" class=\"dataframe\">\n",
       "  <thead>\n",
       "    <tr style=\"text-align: right;\">\n",
       "      <th></th>\n",
       "      <th>loan_status</th>\n",
       "      <th>Principal</th>\n",
       "      <th>terms</th>\n",
       "      <th>age</th>\n",
       "      <th>education</th>\n",
       "      <th>Gender</th>\n",
       "      <th>loan_status_n</th>\n",
       "      <th>education_n</th>\n",
       "      <th>Gender_n</th>\n",
       "    </tr>\n",
       "  </thead>\n",
       "  <tbody>\n",
       "    <tr>\n",
       "      <th>0</th>\n",
       "      <td>PAIDOFF</td>\n",
       "      <td>1000</td>\n",
       "      <td>30</td>\n",
       "      <td>45</td>\n",
       "      <td>High School or Below</td>\n",
       "      <td>male</td>\n",
       "      <td>1</td>\n",
       "      <td>1</td>\n",
       "      <td>1</td>\n",
       "    </tr>\n",
       "    <tr>\n",
       "      <th>1</th>\n",
       "      <td>PAIDOFF</td>\n",
       "      <td>1000</td>\n",
       "      <td>30</td>\n",
       "      <td>33</td>\n",
       "      <td>Bechalor</td>\n",
       "      <td>female</td>\n",
       "      <td>1</td>\n",
       "      <td>0</td>\n",
       "      <td>0</td>\n",
       "    </tr>\n",
       "    <tr>\n",
       "      <th>2</th>\n",
       "      <td>PAIDOFF</td>\n",
       "      <td>1000</td>\n",
       "      <td>15</td>\n",
       "      <td>27</td>\n",
       "      <td>college</td>\n",
       "      <td>male</td>\n",
       "      <td>1</td>\n",
       "      <td>3</td>\n",
       "      <td>1</td>\n",
       "    </tr>\n",
       "    <tr>\n",
       "      <th>3</th>\n",
       "      <td>PAIDOFF</td>\n",
       "      <td>1000</td>\n",
       "      <td>30</td>\n",
       "      <td>28</td>\n",
       "      <td>college</td>\n",
       "      <td>female</td>\n",
       "      <td>1</td>\n",
       "      <td>3</td>\n",
       "      <td>0</td>\n",
       "    </tr>\n",
       "    <tr>\n",
       "      <th>4</th>\n",
       "      <td>PAIDOFF</td>\n",
       "      <td>1000</td>\n",
       "      <td>30</td>\n",
       "      <td>29</td>\n",
       "      <td>college</td>\n",
       "      <td>male</td>\n",
       "      <td>1</td>\n",
       "      <td>3</td>\n",
       "      <td>1</td>\n",
       "    </tr>\n",
       "    <tr>\n",
       "      <th>...</th>\n",
       "      <td>...</td>\n",
       "      <td>...</td>\n",
       "      <td>...</td>\n",
       "      <td>...</td>\n",
       "      <td>...</td>\n",
       "      <td>...</td>\n",
       "      <td>...</td>\n",
       "      <td>...</td>\n",
       "      <td>...</td>\n",
       "    </tr>\n",
       "    <tr>\n",
       "      <th>340</th>\n",
       "      <td>COLLECTION</td>\n",
       "      <td>1000</td>\n",
       "      <td>30</td>\n",
       "      <td>26</td>\n",
       "      <td>college</td>\n",
       "      <td>male</td>\n",
       "      <td>0</td>\n",
       "      <td>3</td>\n",
       "      <td>1</td>\n",
       "    </tr>\n",
       "    <tr>\n",
       "      <th>341</th>\n",
       "      <td>COLLECTION</td>\n",
       "      <td>800</td>\n",
       "      <td>15</td>\n",
       "      <td>32</td>\n",
       "      <td>High School or Below</td>\n",
       "      <td>male</td>\n",
       "      <td>0</td>\n",
       "      <td>1</td>\n",
       "      <td>1</td>\n",
       "    </tr>\n",
       "    <tr>\n",
       "      <th>343</th>\n",
       "      <td>COLLECTION</td>\n",
       "      <td>800</td>\n",
       "      <td>15</td>\n",
       "      <td>39</td>\n",
       "      <td>college</td>\n",
       "      <td>male</td>\n",
       "      <td>0</td>\n",
       "      <td>3</td>\n",
       "      <td>1</td>\n",
       "    </tr>\n",
       "    <tr>\n",
       "      <th>344</th>\n",
       "      <td>COLLECTION</td>\n",
       "      <td>1000</td>\n",
       "      <td>30</td>\n",
       "      <td>28</td>\n",
       "      <td>college</td>\n",
       "      <td>male</td>\n",
       "      <td>0</td>\n",
       "      <td>3</td>\n",
       "      <td>1</td>\n",
       "    </tr>\n",
       "    <tr>\n",
       "      <th>345</th>\n",
       "      <td>COLLECTION</td>\n",
       "      <td>1000</td>\n",
       "      <td>30</td>\n",
       "      <td>26</td>\n",
       "      <td>college</td>\n",
       "      <td>male</td>\n",
       "      <td>0</td>\n",
       "      <td>3</td>\n",
       "      <td>1</td>\n",
       "    </tr>\n",
       "  </tbody>\n",
       "</table>\n",
       "<p>306 rows × 9 columns</p>\n",
       "</div>"
      ],
      "text/plain": [
       "    loan_status  Principal  terms  age             education  Gender  \\\n",
       "0       PAIDOFF       1000     30   45  High School or Below    male   \n",
       "1       PAIDOFF       1000     30   33              Bechalor  female   \n",
       "2       PAIDOFF       1000     15   27               college    male   \n",
       "3       PAIDOFF       1000     30   28               college  female   \n",
       "4       PAIDOFF       1000     30   29               college    male   \n",
       "..          ...        ...    ...  ...                   ...     ...   \n",
       "340  COLLECTION       1000     30   26               college    male   \n",
       "341  COLLECTION        800     15   32  High School or Below    male   \n",
       "343  COLLECTION        800     15   39               college    male   \n",
       "344  COLLECTION       1000     30   28               college    male   \n",
       "345  COLLECTION       1000     30   26               college    male   \n",
       "\n",
       "     loan_status_n  education_n  Gender_n  \n",
       "0                1            1         1  \n",
       "1                1            0         0  \n",
       "2                1            3         1  \n",
       "3                1            3         0  \n",
       "4                1            3         1  \n",
       "..             ...          ...       ...  \n",
       "340              0            3         1  \n",
       "341              0            1         1  \n",
       "343              0            3         1  \n",
       "344              0            3         1  \n",
       "345              0            3         1  \n",
       "\n",
       "[306 rows x 9 columns]"
      ]
     },
     "execution_count": 261,
     "metadata": {},
     "output_type": "execute_result"
    }
   ],
   "source": [
    "# Transform categorical values to numeric values\n",
    "le_loan_status = LabelEncoder()\n",
    "le_education = LabelEncoder()\n",
    "le_gender = LabelEncoder()\n",
    "\n",
    "loan_df['loan_status_n'] = le_loan_status.fit_transform(loan_df['loan_status'])\n",
    "loan_df['education_n'] = le_education.fit_transform(loan_df['education'])\n",
    "loan_df['Gender_n'] = le_gender.fit_transform(loan_df['Gender'])\n",
    "\n",
    "loan_df"
   ]
  },
  {
   "cell_type": "markdown",
   "id": "068c06fa",
   "metadata": {},
   "source": [
    "Now, I am going to drop old categorical features"
   ]
  },
  {
   "cell_type": "code",
   "execution_count": 262,
   "id": "dc4ee702",
   "metadata": {},
   "outputs": [
    {
     "data": {
      "text/html": [
       "<div>\n",
       "<style scoped>\n",
       "    .dataframe tbody tr th:only-of-type {\n",
       "        vertical-align: middle;\n",
       "    }\n",
       "\n",
       "    .dataframe tbody tr th {\n",
       "        vertical-align: top;\n",
       "    }\n",
       "\n",
       "    .dataframe thead th {\n",
       "        text-align: right;\n",
       "    }\n",
       "</style>\n",
       "<table border=\"1\" class=\"dataframe\">\n",
       "  <thead>\n",
       "    <tr style=\"text-align: right;\">\n",
       "      <th></th>\n",
       "      <th>Principal</th>\n",
       "      <th>terms</th>\n",
       "      <th>age</th>\n",
       "      <th>loan_status_n</th>\n",
       "      <th>education_n</th>\n",
       "      <th>Gender_n</th>\n",
       "    </tr>\n",
       "  </thead>\n",
       "  <tbody>\n",
       "    <tr>\n",
       "      <th>0</th>\n",
       "      <td>1000</td>\n",
       "      <td>30</td>\n",
       "      <td>45</td>\n",
       "      <td>1</td>\n",
       "      <td>1</td>\n",
       "      <td>1</td>\n",
       "    </tr>\n",
       "    <tr>\n",
       "      <th>1</th>\n",
       "      <td>1000</td>\n",
       "      <td>30</td>\n",
       "      <td>33</td>\n",
       "      <td>1</td>\n",
       "      <td>0</td>\n",
       "      <td>0</td>\n",
       "    </tr>\n",
       "    <tr>\n",
       "      <th>2</th>\n",
       "      <td>1000</td>\n",
       "      <td>15</td>\n",
       "      <td>27</td>\n",
       "      <td>1</td>\n",
       "      <td>3</td>\n",
       "      <td>1</td>\n",
       "    </tr>\n",
       "    <tr>\n",
       "      <th>3</th>\n",
       "      <td>1000</td>\n",
       "      <td>30</td>\n",
       "      <td>28</td>\n",
       "      <td>1</td>\n",
       "      <td>3</td>\n",
       "      <td>0</td>\n",
       "    </tr>\n",
       "    <tr>\n",
       "      <th>4</th>\n",
       "      <td>1000</td>\n",
       "      <td>30</td>\n",
       "      <td>29</td>\n",
       "      <td>1</td>\n",
       "      <td>3</td>\n",
       "      <td>1</td>\n",
       "    </tr>\n",
       "    <tr>\n",
       "      <th>...</th>\n",
       "      <td>...</td>\n",
       "      <td>...</td>\n",
       "      <td>...</td>\n",
       "      <td>...</td>\n",
       "      <td>...</td>\n",
       "      <td>...</td>\n",
       "    </tr>\n",
       "    <tr>\n",
       "      <th>340</th>\n",
       "      <td>1000</td>\n",
       "      <td>30</td>\n",
       "      <td>26</td>\n",
       "      <td>0</td>\n",
       "      <td>3</td>\n",
       "      <td>1</td>\n",
       "    </tr>\n",
       "    <tr>\n",
       "      <th>341</th>\n",
       "      <td>800</td>\n",
       "      <td>15</td>\n",
       "      <td>32</td>\n",
       "      <td>0</td>\n",
       "      <td>1</td>\n",
       "      <td>1</td>\n",
       "    </tr>\n",
       "    <tr>\n",
       "      <th>343</th>\n",
       "      <td>800</td>\n",
       "      <td>15</td>\n",
       "      <td>39</td>\n",
       "      <td>0</td>\n",
       "      <td>3</td>\n",
       "      <td>1</td>\n",
       "    </tr>\n",
       "    <tr>\n",
       "      <th>344</th>\n",
       "      <td>1000</td>\n",
       "      <td>30</td>\n",
       "      <td>28</td>\n",
       "      <td>0</td>\n",
       "      <td>3</td>\n",
       "      <td>1</td>\n",
       "    </tr>\n",
       "    <tr>\n",
       "      <th>345</th>\n",
       "      <td>1000</td>\n",
       "      <td>30</td>\n",
       "      <td>26</td>\n",
       "      <td>0</td>\n",
       "      <td>3</td>\n",
       "      <td>1</td>\n",
       "    </tr>\n",
       "  </tbody>\n",
       "</table>\n",
       "<p>306 rows × 6 columns</p>\n",
       "</div>"
      ],
      "text/plain": [
       "     Principal  terms  age  loan_status_n  education_n  Gender_n\n",
       "0         1000     30   45              1            1         1\n",
       "1         1000     30   33              1            0         0\n",
       "2         1000     15   27              1            3         1\n",
       "3         1000     30   28              1            3         0\n",
       "4         1000     30   29              1            3         1\n",
       "..         ...    ...  ...            ...          ...       ...\n",
       "340       1000     30   26              0            3         1\n",
       "341        800     15   32              0            1         1\n",
       "343        800     15   39              0            3         1\n",
       "344       1000     30   28              0            3         1\n",
       "345       1000     30   26              0            3         1\n",
       "\n",
       "[306 rows x 6 columns]"
      ]
     },
     "execution_count": 262,
     "metadata": {},
     "output_type": "execute_result"
    }
   ],
   "source": [
    "loan_df = loan_df.drop(['loan_status', 'education', 'Gender'], axis='columns')\n",
    "loan_df"
   ]
  },
  {
   "cell_type": "markdown",
   "id": "b2164905",
   "metadata": {},
   "source": [
    "Now, I called the describe function to get the statistical distribution of the dataset."
   ]
  },
  {
   "cell_type": "code",
   "execution_count": 263,
   "id": "fb0a620d",
   "metadata": {},
   "outputs": [
    {
     "data": {
      "text/html": [
       "<div>\n",
       "<style scoped>\n",
       "    .dataframe tbody tr th:only-of-type {\n",
       "        vertical-align: middle;\n",
       "    }\n",
       "\n",
       "    .dataframe tbody tr th {\n",
       "        vertical-align: top;\n",
       "    }\n",
       "\n",
       "    .dataframe thead th {\n",
       "        text-align: right;\n",
       "    }\n",
       "</style>\n",
       "<table border=\"1\" class=\"dataframe\">\n",
       "  <thead>\n",
       "    <tr style=\"text-align: right;\">\n",
       "      <th></th>\n",
       "      <th>Principal</th>\n",
       "      <th>terms</th>\n",
       "      <th>age</th>\n",
       "      <th>loan_status_n</th>\n",
       "      <th>education_n</th>\n",
       "      <th>Gender_n</th>\n",
       "    </tr>\n",
       "  </thead>\n",
       "  <tbody>\n",
       "    <tr>\n",
       "      <th>count</th>\n",
       "      <td>306.000000</td>\n",
       "      <td>306.000000</td>\n",
       "      <td>306.000000</td>\n",
       "      <td>306.000000</td>\n",
       "      <td>306.000000</td>\n",
       "      <td>306.000000</td>\n",
       "    </tr>\n",
       "    <tr>\n",
       "      <th>mean</th>\n",
       "      <td>940.196078</td>\n",
       "      <td>22.183007</td>\n",
       "      <td>31.179739</td>\n",
       "      <td>0.745098</td>\n",
       "      <td>1.725490</td>\n",
       "      <td>0.833333</td>\n",
       "    </tr>\n",
       "    <tr>\n",
       "      <th>std</th>\n",
       "      <td>113.015134</td>\n",
       "      <td>8.048572</td>\n",
       "      <td>6.192305</td>\n",
       "      <td>0.436520</td>\n",
       "      <td>1.163574</td>\n",
       "      <td>0.373288</td>\n",
       "    </tr>\n",
       "    <tr>\n",
       "      <th>min</th>\n",
       "      <td>300.000000</td>\n",
       "      <td>7.000000</td>\n",
       "      <td>18.000000</td>\n",
       "      <td>0.000000</td>\n",
       "      <td>0.000000</td>\n",
       "      <td>0.000000</td>\n",
       "    </tr>\n",
       "    <tr>\n",
       "      <th>25%</th>\n",
       "      <td>800.000000</td>\n",
       "      <td>15.000000</td>\n",
       "      <td>27.000000</td>\n",
       "      <td>0.000000</td>\n",
       "      <td>1.000000</td>\n",
       "      <td>1.000000</td>\n",
       "    </tr>\n",
       "    <tr>\n",
       "      <th>50%</th>\n",
       "      <td>1000.000000</td>\n",
       "      <td>30.000000</td>\n",
       "      <td>30.000000</td>\n",
       "      <td>1.000000</td>\n",
       "      <td>1.000000</td>\n",
       "      <td>1.000000</td>\n",
       "    </tr>\n",
       "    <tr>\n",
       "      <th>75%</th>\n",
       "      <td>1000.000000</td>\n",
       "      <td>30.000000</td>\n",
       "      <td>35.000000</td>\n",
       "      <td>1.000000</td>\n",
       "      <td>3.000000</td>\n",
       "      <td>1.000000</td>\n",
       "    </tr>\n",
       "    <tr>\n",
       "      <th>max</th>\n",
       "      <td>1000.000000</td>\n",
       "      <td>30.000000</td>\n",
       "      <td>51.000000</td>\n",
       "      <td>1.000000</td>\n",
       "      <td>3.000000</td>\n",
       "      <td>1.000000</td>\n",
       "    </tr>\n",
       "  </tbody>\n",
       "</table>\n",
       "</div>"
      ],
      "text/plain": [
       "         Principal       terms         age  loan_status_n  education_n  \\\n",
       "count   306.000000  306.000000  306.000000     306.000000   306.000000   \n",
       "mean    940.196078   22.183007   31.179739       0.745098     1.725490   \n",
       "std     113.015134    8.048572    6.192305       0.436520     1.163574   \n",
       "min     300.000000    7.000000   18.000000       0.000000     0.000000   \n",
       "25%     800.000000   15.000000   27.000000       0.000000     1.000000   \n",
       "50%    1000.000000   30.000000   30.000000       1.000000     1.000000   \n",
       "75%    1000.000000   30.000000   35.000000       1.000000     3.000000   \n",
       "max    1000.000000   30.000000   51.000000       1.000000     3.000000   \n",
       "\n",
       "         Gender_n  \n",
       "count  306.000000  \n",
       "mean     0.833333  \n",
       "std      0.373288  \n",
       "min      0.000000  \n",
       "25%      1.000000  \n",
       "50%      1.000000  \n",
       "75%      1.000000  \n",
       "max      1.000000  "
      ]
     },
     "execution_count": 263,
     "metadata": {},
     "output_type": "execute_result"
    }
   ],
   "source": [
    "loan_df.describe()"
   ]
  },
  {
   "cell_type": "markdown",
   "id": "beca7b2e",
   "metadata": {},
   "source": [
    "After running the describe function we got the minimum value, maximum value, mean, median, standard deviation, 1st quantile and 3rd quantile of each and every numerical columns of the dataset. Data points below the 1st quantile and the data points above the 3rd quantile are outliers. Now, I am going to plot boxplot to check the outliers for all the columns."
   ]
  },
  {
   "cell_type": "code",
   "execution_count": 264,
   "id": "cd7720ac",
   "metadata": {},
   "outputs": [
    {
     "data": {
      "image/png": "[encoded data removed]",
      "text/plain": [
       "<Figure size 1080x360 with 6 Axes>"
      ]
     },
     "metadata": {
      "needs_background": "light"
     },
     "output_type": "display_data"
    }
   ],
   "source": [
    "# Select numeric features from the dataset for the boxplot\n",
    "loan_df_num  =  loan_df.select_dtypes(include=np.number)\n",
    "\n",
    "# Outlier detection with the boxplot\n",
    "fig, ax = plt.subplots(ncols=6, nrows=1, figsize=(15, 5))\n",
    "ax = ax.flatten()\n",
    "index = 0\n",
    "\n",
    "for i in loan_df_num.columns:\n",
    "  sb.boxplot(y=i, data=loan_df_num, ax=ax[index])\n",
    "  index +=1\n",
    "plt.tight_layout(pad=0.4)\n",
    "plt.show()"
   ]
  },
  {
   "cell_type": "markdown",
   "id": "2aa25858",
   "metadata": {},
   "source": [
    "From the above boxplot, we can see data points below the 1st quantile and the data points above the 3rd quantile are outliers. Now, I am going to check the amount of outliers by feature."
   ]
  },
  {
   "cell_type": "code",
   "execution_count": 265,
   "id": "f82a7f42",
   "metadata": {},
   "outputs": [
    {
     "name": "stdout",
     "output_type": "stream",
     "text": [
      "Outliers in Principal is 0.98% with count 3\n",
      "Outliers in terms is 0.00% with count 0\n",
      "Outliers in age is 1.31% with count 4\n",
      "Outliers in loan_status_n is 0.00% with count 0\n",
      "Outliers in education_n is 0.00% with count 0\n",
      "Outliers in Gender_n is 16.67% with count 51\n"
     ]
    }
   ],
   "source": [
    "# Checking outliers by features for the numeric columns\n",
    "for i in loan_df_num.columns:\n",
    "  loan_df_num.sort_values(by=i, ascending=True, na_position='last')\n",
    "  q1, q3 = np.nanpercentile(loan_df_num[i], [25,75])\n",
    "  iqr = q3-q1\n",
    "  lower_bound = q1-(1.5*iqr)\n",
    "  upper_bound = q3+(1.5*iqr)\n",
    "  outlier_data = loan_df_num[i][(loan_df_num[i] < lower_bound) | (loan_df_num[i] > upper_bound)] #creating a series of outlier data\n",
    "  perc = (outlier_data.count()/loan_df_num[i].count())*100\n",
    "  print('Outliers in %s is %.2f%% with count %.f' %(i, perc, outlier_data.count()))"
   ]
  },
  {
   "cell_type": "markdown",
   "id": "b0cb7c80",
   "metadata": {},
   "source": [
    "Here, we can see the feature 'age' has most outliers with 1.31%. The feature 'Principal' have outlier with 0.98%. While, the feature 'terms' don't have outliers at all. Now, I am calling the corr function to get the correlation of the features. Then, plotted the correlation in the heatmap."
   ]
  },
  {
   "cell_type": "code",
   "execution_count": 266,
   "id": "228ad293",
   "metadata": {},
   "outputs": [
    {
     "data": {
      "text/html": [
       "<div>\n",
       "<style scoped>\n",
       "    .dataframe tbody tr th:only-of-type {\n",
       "        vertical-align: middle;\n",
       "    }\n",
       "\n",
       "    .dataframe tbody tr th {\n",
       "        vertical-align: top;\n",
       "    }\n",
       "\n",
       "    .dataframe thead th {\n",
       "        text-align: right;\n",
       "    }\n",
       "</style>\n",
       "<table border=\"1\" class=\"dataframe\">\n",
       "  <thead>\n",
       "    <tr style=\"text-align: right;\">\n",
       "      <th></th>\n",
       "      <th>Principal</th>\n",
       "      <th>terms</th>\n",
       "      <th>age</th>\n",
       "      <th>loan_status_n</th>\n",
       "      <th>education_n</th>\n",
       "      <th>Gender_n</th>\n",
       "    </tr>\n",
       "  </thead>\n",
       "  <tbody>\n",
       "    <tr>\n",
       "      <th>Principal</th>\n",
       "      <td>1.000000</td>\n",
       "      <td>0.503365</td>\n",
       "      <td>-0.040342</td>\n",
       "      <td>-0.084052</td>\n",
       "      <td>-0.018040</td>\n",
       "      <td>-0.003886</td>\n",
       "    </tr>\n",
       "    <tr>\n",
       "      <th>terms</th>\n",
       "      <td>0.503365</td>\n",
       "      <td>1.000000</td>\n",
       "      <td>-0.042370</td>\n",
       "      <td>-0.121061</td>\n",
       "      <td>-0.014224</td>\n",
       "      <td>0.016733</td>\n",
       "    </tr>\n",
       "    <tr>\n",
       "      <th>age</th>\n",
       "      <td>-0.040342</td>\n",
       "      <td>-0.042370</td>\n",
       "      <td>1.000000</td>\n",
       "      <td>0.027922</td>\n",
       "      <td>-0.130098</td>\n",
       "      <td>0.027186</td>\n",
       "    </tr>\n",
       "    <tr>\n",
       "      <th>loan_status_n</th>\n",
       "      <td>-0.084052</td>\n",
       "      <td>-0.121061</td>\n",
       "      <td>0.027922</td>\n",
       "      <td>1.000000</td>\n",
       "      <td>0.003797</td>\n",
       "      <td>-0.140848</td>\n",
       "    </tr>\n",
       "    <tr>\n",
       "      <th>education_n</th>\n",
       "      <td>-0.018040</td>\n",
       "      <td>-0.014224</td>\n",
       "      <td>-0.130098</td>\n",
       "      <td>0.003797</td>\n",
       "      <td>1.000000</td>\n",
       "      <td>0.022646</td>\n",
       "    </tr>\n",
       "    <tr>\n",
       "      <th>Gender_n</th>\n",
       "      <td>-0.003886</td>\n",
       "      <td>0.016733</td>\n",
       "      <td>0.027186</td>\n",
       "      <td>-0.140848</td>\n",
       "      <td>0.022646</td>\n",
       "      <td>1.000000</td>\n",
       "    </tr>\n",
       "  </tbody>\n",
       "</table>\n",
       "</div>"
      ],
      "text/plain": [
       "               Principal     terms       age  loan_status_n  education_n  \\\n",
       "Principal       1.000000  0.503365 -0.040342      -0.084052    -0.018040   \n",
       "terms           0.503365  1.000000 -0.042370      -0.121061    -0.014224   \n",
       "age            -0.040342 -0.042370  1.000000       0.027922    -0.130098   \n",
       "loan_status_n  -0.084052 -0.121061  0.027922       1.000000     0.003797   \n",
       "education_n    -0.018040 -0.014224 -0.130098       0.003797     1.000000   \n",
       "Gender_n       -0.003886  0.016733  0.027186      -0.140848     0.022646   \n",
       "\n",
       "               Gender_n  \n",
       "Principal     -0.003886  \n",
       "terms          0.016733  \n",
       "age            0.027186  \n",
       "loan_status_n -0.140848  \n",
       "education_n    0.022646  \n",
       "Gender_n       1.000000  "
      ]
     },
     "execution_count": 266,
     "metadata": {},
     "output_type": "execute_result"
    }
   ],
   "source": [
    "# Get the correlation\n",
    "corr = loan_df.corr()\n",
    "corr"
   ]
  },
  {
   "cell_type": "code",
   "execution_count": 267,
   "id": "bf8f9a8a",
   "metadata": {},
   "outputs": [
    {
     "data": {
      "image/png": "[encoded data removed]",
      "text/plain": [
       "<Figure size 720x360 with 2 Axes>"
      ]
     },
     "metadata": {
      "needs_background": "light"
     },
     "output_type": "display_data"
    }
   ],
   "source": [
    "# Plotting the correlation in heatmap\n",
    "plt.figure(figsize=(10, 5))\n",
    "\n",
    "sb.heatmap(corr, cmap=\"coolwarm\", annot=True)\n",
    "plt.show()"
   ]
  },
  {
   "cell_type": "markdown",
   "id": "4c4e3d22",
   "metadata": {},
   "source": [
    "After getting the heatmap of the correlation, we can see that, the feature 'Principal' has positive correlation with the feature 'terms'. Correlation of all other features are insignificant."
   ]
  },
  {
   "cell_type": "markdown",
   "id": "50bc36b1",
   "metadata": {},
   "source": [
    "# Logistic Regression"
   ]
  },
  {
   "cell_type": "markdown",
   "id": "e300bca8",
   "metadata": {},
   "source": [
    "Here, I am doing Logistic Regression Model with the dependent (target) variable 'loan_status'. All others are my independent variables. For getting the independent variables, I am using the drop function of the dataset and dropped the variable 'loan_status' and assigned to variable x. The target variable is 'loan_status', which is assigned to variable y. Then, I split the dataset into train and test data sets with 20% test data and 80% train samples, using the train_test_split function from the sklearn library. Then, fit the model with train dataset and predicted the model with the test dataset."
   ]
  },
  {
   "cell_type": "code",
   "execution_count": 268,
   "id": "6ef07636",
   "metadata": {},
   "outputs": [
    {
     "name": "stdout",
     "output_type": "stream",
     "text": [
      "The intercept is [0.11621578]\n",
      "The coefficients are [[ 0.00093609 -0.03079617  0.04095504  0.01690767 -0.68009963]]\n",
      "[1 1 1 1 1 1 1 1 1 1 1 1 1 1 1 1 1 1 1 1 1 1 1 1 1 1 1 1 1 1 1 1 1 1 1 1 1\n",
      " 1 1 1 1 1 1 1 1 1 1 1 1 1 1 1 1 1 1 1 1 1 1 1 1 1]\n"
     ]
    }
   ],
   "source": [
    "# Imported Libraries\n",
    "from sklearn.linear_model import LogisticRegression\n",
    "from sklearn.model_selection import train_test_split\n",
    "\n",
    "# Created object of LogisticRegression\n",
    "lor = LogisticRegression()\n",
    "\n",
    "# Dropped column loan_status from the dataframe and assigned as x\n",
    "x = loan_df.drop(['loan_status_n'], axis=1)\n",
    "\n",
    "# Dependent variable (Target variable) sales is assigned as y\n",
    "y = loan_df['loan_status_n']\n",
    "\n",
    "# Creating test and training samples from the dataset with 20% test samples and 80% train samples\n",
    "x_train, x_test, y_train, y_test = train_test_split(x, y, test_size=0.2, random_state=55)\n",
    "\n",
    "# Logistic regression model is trained with training data x_train and y_train\n",
    "lor.fit(x_train, y_train)\n",
    "\n",
    "# Print the intercept and the coefficients\n",
    "print(\"The intercept is\", lor.intercept_)\n",
    "print(\"The coefficients are\", lor.coef_)\n",
    "\n",
    "# Predict the loan status with the logical regression model by passing the test data\n",
    "y_pred = lor.predict(x_test)\n",
    "\n",
    "print(y_pred)"
   ]
  },
  {
   "cell_type": "markdown",
   "id": "ab461ab1",
   "metadata": {},
   "source": [
    "Here, I created function for printing the evaluation results"
   ]
  },
  {
   "cell_type": "code",
   "execution_count": 269,
   "id": "72b9dec5",
   "metadata": {},
   "outputs": [],
   "source": [
    "def ModelEvaluation(model, y_test, y_pred):\n",
    "  \n",
    "    # Import Libraries\n",
    "    from sklearn import metrics\n",
    "    from sklearn.metrics import classification_report, confusion_matrix, roc_curve, auc, roc_auc_score\n",
    "    \n",
    "    # Calculate Accuracy of the model\n",
    "    Accuracy = metrics.accuracy_score(y_true=y_test, y_pred=y_pred)\n",
    "    print(\"Accuracy of the\", model, \"Model is\", Accuracy)\n",
    "  \n",
    "    # Calculate Precision of the model\n",
    "    Precision = metrics.precision_score(y_true=y_test, y_pred=y_pred)\n",
    "    print(\"Precision of the\", model, \"Model is\", Precision)\n",
    "  \n",
    "    # Calculate True Positive Rate (Recall) of the model\n",
    "    TPR = metrics.recall_score(y_true=y_test, y_pred=y_pred)\n",
    "    print(\"True Positive Rate (Recall) of the\", model, \"Model is\", TPR)\n",
    "  \n",
    "    # Calculate F Score of of the model\n",
    "    F_Score = metrics.f1_score(y_true=y_test, y_pred=y_pred)\n",
    "    print(\"F Score of the\", model, \"Model is\", F_Score)\n",
    "    \n",
    "    # Calculate TNR(Specificity) of the model\n",
    "    tn, fp, fn, tp = confusion_matrix(y_true=y_test, y_pred=y_pred).ravel()\n",
    "    TNR = tn / (tn+fp)\n",
    "    print(\"True Negative Rate(Specificity) of the\", model, \"Model is\", TNR)    "
   ]
  },
  {
   "cell_type": "markdown",
   "id": "46c72e8a",
   "metadata": {},
   "source": [
    "Here, I created common function for plotting confusion matrix"
   ]
  },
  {
   "cell_type": "code",
   "execution_count": 270,
   "id": "76f9773c",
   "metadata": {},
   "outputs": [],
   "source": [
    "# Created a common function to plot confusion matrix\n",
    "def Plot_confusion_matrix(y_test, pred_test):\n",
    "  cm = confusion_matrix(y_test, pred_test)\n",
    "  plt.clf()\n",
    "  plt.imshow(cm, interpolation='nearest', cmap=plt.cm.Set1)\n",
    "  categoryNames = ['Collection','Paidoff']\n",
    "  plt.title('Confusion Matrix')\n",
    "  plt.ylabel('True label')\n",
    "  plt.xlabel('Predicted label')\n",
    "  ticks = np.arange(len(categoryNames))\n",
    "  plt.xticks(ticks, categoryNames)\n",
    "  plt.yticks(ticks, categoryNames)\n",
    "  s = [['TN','FP'], ['FN', 'TP']]\n",
    "  \n",
    "  for i in range(2):\n",
    "      for j in range(2):\n",
    "          plt.text(j,i, str(s[i][j])+\" = \"+str(cm[i][j]), fontsize=12)\n",
    "  plt.show()"
   ]
  },
  {
   "cell_type": "markdown",
   "id": "cb6a2b6c",
   "metadata": {},
   "source": [
    "Now, I am printing the evaluation metrics of the model."
   ]
  },
  {
   "cell_type": "code",
   "execution_count": 271,
   "id": "79bd2403",
   "metadata": {},
   "outputs": [
    {
     "name": "stdout",
     "output_type": "stream",
     "text": [
      "Accuracy of the Logistics Regression Model is 0.7741935483870968\n",
      "Precision of the Logistics Regression Model is 0.7741935483870968\n",
      "True Positive Rate (Recall) of the Logistics Regression Model is 1.0\n",
      "F Score of the Logistics Regression Model is 0.8727272727272727\n",
      "True Negative Rate(Specificity) of the Logistics Regression Model is 0.0\n"
     ]
    }
   ],
   "source": [
    "# Print evaluation metrics\n",
    "ModelEvaluation(\"Logistics Regression\", y_test, y_pred)"
   ]
  },
  {
   "cell_type": "markdown",
   "id": "14d71fd9",
   "metadata": {},
   "source": [
    "Now, I am going to plot the confusion matrix of the model."
   ]
  },
  {
   "cell_type": "code",
   "execution_count": 272,
   "id": "d327ebe7",
   "metadata": {},
   "outputs": [
    {
     "data": {
      "image/png": "[encoded data removed]",
      "text/plain": [
       "<Figure size 432x288 with 1 Axes>"
      ]
     },
     "metadata": {
      "needs_background": "light"
     },
     "output_type": "display_data"
    }
   ],
   "source": [
    "# import the library for plotting confusion matrix\n",
    "from sklearn.metrics import confusion_matrix\n",
    "\n",
    "# Plot the confusion matrix\n",
    "Plot_confusion_matrix(y_test, y_pred)"
   ]
  },
  {
   "cell_type": "markdown",
   "id": "df538c0d",
   "metadata": {},
   "source": [
    "From the Confusion Matrix generated, we can see True Positive is 48, True Negative is 0, False Positive is 14 and False Negative is 0."
   ]
  },
  {
   "cell_type": "markdown",
   "id": "523d9bad",
   "metadata": {},
   "source": [
    "Now, I am going to generate the classification report of the model"
   ]
  },
  {
   "cell_type": "code",
   "execution_count": 273,
   "id": "9f3464fc",
   "metadata": {},
   "outputs": [
    {
     "name": "stdout",
     "output_type": "stream",
     "text": [
      "              precision    recall  f1-score   support\n",
      "\n",
      "           0       0.00      0.00      0.00        14\n",
      "           1       0.77      1.00      0.87        48\n",
      "\n",
      "    accuracy                           0.77        62\n",
      "   macro avg       0.39      0.50      0.44        62\n",
      "weighted avg       0.60      0.77      0.68        62\n",
      "\n"
     ]
    },
    {
     "name": "stderr",
     "output_type": "stream",
     "text": [
      "C:\\Users\\Sandeep\\anaconda3\\lib\\site-packages\\sklearn\\metrics\\_classification.py:1318: UndefinedMetricWarning: Precision and F-score are ill-defined and being set to 0.0 in labels with no predicted samples. Use `zero_division` parameter to control this behavior.\n",
      "  _warn_prf(average, modifier, msg_start, len(result))\n",
      "C:\\Users\\Sandeep\\anaconda3\\lib\\site-packages\\sklearn\\metrics\\_classification.py:1318: UndefinedMetricWarning: Precision and F-score are ill-defined and being set to 0.0 in labels with no predicted samples. Use `zero_division` parameter to control this behavior.\n",
      "  _warn_prf(average, modifier, msg_start, len(result))\n",
      "C:\\Users\\Sandeep\\anaconda3\\lib\\site-packages\\sklearn\\metrics\\_classification.py:1318: UndefinedMetricWarning: Precision and F-score are ill-defined and being set to 0.0 in labels with no predicted samples. Use `zero_division` parameter to control this behavior.\n",
      "  _warn_prf(average, modifier, msg_start, len(result))\n"
     ]
    }
   ],
   "source": [
    "# Import Libraries\n",
    "from sklearn.metrics import classification_report\n",
    "\n",
    "# Generate Classification Report\n",
    "print(classification_report(y_test, y_pred))"
   ]
  },
  {
   "cell_type": "markdown",
   "id": "61980927",
   "metadata": {},
   "source": [
    "From the classification report, we can see Accuracy is 0.77, Precision is 0.77, True Positive Rate (Recall) is 1 and F1 Score is 0.87."
   ]
  },
  {
   "cell_type": "markdown",
   "id": "ec6ab7cf",
   "metadata": {},
   "source": [
    "# K-Nearest Neighbors (KNN)"
   ]
  },
  {
   "cell_type": "markdown",
   "id": "34c08a3e",
   "metadata": {},
   "source": [
    "Here, I am doing K-Nearest Neighbors (KNN) for the classification.                                                                                                                       "
   ]
  },
  {
   "cell_type": "code",
   "execution_count": 274,
   "id": "efa9a1a7",
   "metadata": {},
   "outputs": [
    {
     "name": "stdout",
     "output_type": "stream",
     "text": [
      "[0 1 1 1 1 1 1 0 1 1 1 1 1 1 1 1 1 1 1 1 0 1 0 1 1 1 1 1 1 1 1 1 1 1 1 1 1\n",
      " 1 1 0 1 0 1 1 1 1 1 1 1 1 1 1 0 1 1 0 1 1 1 1 1 1]\n"
     ]
    }
   ],
   "source": [
    "# Imported Libraries\n",
    "from sklearn.neighbors import KNeighborsClassifier\n",
    "\n",
    "# Created object of KNN\n",
    "knn = KNeighborsClassifier(n_neighbors=5)\n",
    "\n",
    "# KNN model is trained with training data x_train and y_train\n",
    "knn.fit(x_train, y_train)\n",
    "\n",
    "# Predict the loan status with the KNN model by passing the test data\n",
    "y_pred = knn.predict(x_test)\n",
    "\n",
    "print(y_pred)"
   ]
  },
  {
   "cell_type": "markdown",
   "id": "dae05001",
   "metadata": {},
   "source": [
    "Now, I am printing the evaluation metrics of the model."
   ]
  },
  {
   "cell_type": "code",
   "execution_count": 275,
   "id": "662a745b",
   "metadata": {},
   "outputs": [
    {
     "name": "stdout",
     "output_type": "stream",
     "text": [
      "Accuracy of the K-Nearest Neighbors (KNN) Model is 0.6774193548387096\n",
      "Precision of the K-Nearest Neighbors (KNN) Model is 0.7592592592592593\n",
      "True Positive Rate (Recall) of the K-Nearest Neighbors (KNN) Model is 0.8541666666666666\n",
      "F Score of the K-Nearest Neighbors (KNN) Model is 0.8039215686274509\n",
      "True Negative Rate(Specificity) of the K-Nearest Neighbors (KNN) Model is 0.07142857142857142\n"
     ]
    }
   ],
   "source": [
    "ModelEvaluation(\"K-Nearest Neighbors (KNN)\", y_test, y_pred)"
   ]
  },
  {
   "cell_type": "markdown",
   "id": "a24bc726",
   "metadata": {},
   "source": [
    "Now, I am using GridSearchCV to get the best hyperparameter for the KNN model"
   ]
  },
  {
   "cell_type": "code",
   "execution_count": 276,
   "id": "2b238cdb",
   "metadata": {},
   "outputs": [
    {
     "name": "stdout",
     "output_type": "stream",
     "text": [
      "{'n_neighbors': 29}\n"
     ]
    }
   ],
   "source": [
    "# Import library for the GridSearchCV\n",
    "from sklearn.model_selection import GridSearchCV\n",
    "\n",
    "# Define the hyperparameter grid\n",
    "param_grid = {'n_neighbors': range(1, 50)}\n",
    "\n",
    "\n",
    "# Create the KNN model\n",
    "knn = KNeighborsClassifier()\n",
    "\n",
    "# Create the GridSearchCV object\n",
    "grid_search = GridSearchCV(estimator=knn, param_grid=param_grid, cv=10)\n",
    "\n",
    "# Fit the model to the training data\n",
    "grid_search.fit(x_train, y_train)\n",
    "\n",
    "# Print the best combination of hyperparameters\n",
    "print(grid_search.best_params_)"
   ]
  },
  {
   "cell_type": "markdown",
   "id": "e125d182",
   "metadata": {},
   "source": [
    "Here, I found out that KNN with No of Neighbours 29 gives the best result. Now, I am going to predict this KNN model and evaluate the results."
   ]
  },
  {
   "cell_type": "code",
   "execution_count": 277,
   "id": "9d9d206d",
   "metadata": {},
   "outputs": [
    {
     "name": "stdout",
     "output_type": "stream",
     "text": [
      "[1 1 1 1 1 1 1 1 1 1 1 1 1 1 1 1 1 1 1 1 1 1 1 1 1 1 1 1 1 1 1 1 1 1 1 1 1\n",
      " 1 1 1 1 1 1 1 1 1 1 1 1 1 1 1 1 1 1 1 1 1 1 1 1 1]\n"
     ]
    }
   ],
   "source": [
    "29# Predict the loan status with the KNN model by passing the test data\n",
    "y_pred = grid_search.predict(x_test)\n",
    "\n",
    "print(y_pred)"
   ]
  },
  {
   "cell_type": "code",
   "execution_count": 278,
   "id": "4af0ec98",
   "metadata": {},
   "outputs": [
    {
     "name": "stdout",
     "output_type": "stream",
     "text": [
      "Accuracy of the K-Nearest Neighbors (KNN) Model is 0.7741935483870968\n",
      "Precision of the K-Nearest Neighbors (KNN) Model is 0.7741935483870968\n",
      "True Positive Rate (Recall) of the K-Nearest Neighbors (KNN) Model is 1.0\n",
      "F Score of the K-Nearest Neighbors (KNN) Model is 0.8727272727272727\n",
      "True Negative Rate(Specificity) of the K-Nearest Neighbors (KNN) Model is 0.0\n"
     ]
    }
   ],
   "source": [
    "ModelEvaluation(\"K-Nearest Neighbors (KNN)\", y_test, y_pred)"
   ]
  },
  {
   "cell_type": "markdown",
   "id": "56ecc974",
   "metadata": {},
   "source": [
    "Here, we can see there is improvement of the performance when the No of Neighbours of KNN is 29. I am going to generate the confusion matrix and the classification report of the model."
   ]
  },
  {
   "cell_type": "code",
   "execution_count": 279,
   "id": "db052a7f",
   "metadata": {},
   "outputs": [
    {
     "data": {
      "image/png": "[encoded data removed]",
      "text/plain": [
       "<Figure size 432x288 with 1 Axes>"
      ]
     },
     "metadata": {
      "needs_background": "light"
     },
     "output_type": "display_data"
    }
   ],
   "source": [
    "# Plot the confusion matrix\n",
    "Plot_confusion_matrix(y_test, y_pred)"
   ]
  },
  {
   "cell_type": "markdown",
   "id": "d78e77b7",
   "metadata": {},
   "source": [
    "From the Confusion Matrix generated, we can see True Positive is 48, True Negative is 0, False Positive is 14 and False Negative is 0."
   ]
  },
  {
   "cell_type": "code",
   "execution_count": 280,
   "id": "d798d61b",
   "metadata": {},
   "outputs": [
    {
     "name": "stdout",
     "output_type": "stream",
     "text": [
      "              precision    recall  f1-score   support\n",
      "\n",
      "           0       0.00      0.00      0.00        14\n",
      "           1       0.77      1.00      0.87        48\n",
      "\n",
      "    accuracy                           0.77        62\n",
      "   macro avg       0.39      0.50      0.44        62\n",
      "weighted avg       0.60      0.77      0.68        62\n",
      "\n"
     ]
    },
    {
     "name": "stderr",
     "output_type": "stream",
     "text": [
      "C:\\Users\\Sandeep\\anaconda3\\lib\\site-packages\\sklearn\\metrics\\_classification.py:1318: UndefinedMetricWarning: Precision and F-score are ill-defined and being set to 0.0 in labels with no predicted samples. Use `zero_division` parameter to control this behavior.\n",
      "  _warn_prf(average, modifier, msg_start, len(result))\n",
      "C:\\Users\\Sandeep\\anaconda3\\lib\\site-packages\\sklearn\\metrics\\_classification.py:1318: UndefinedMetricWarning: Precision and F-score are ill-defined and being set to 0.0 in labels with no predicted samples. Use `zero_division` parameter to control this behavior.\n",
      "  _warn_prf(average, modifier, msg_start, len(result))\n",
      "C:\\Users\\Sandeep\\anaconda3\\lib\\site-packages\\sklearn\\metrics\\_classification.py:1318: UndefinedMetricWarning: Precision and F-score are ill-defined and being set to 0.0 in labels with no predicted samples. Use `zero_division` parameter to control this behavior.\n",
      "  _warn_prf(average, modifier, msg_start, len(result))\n"
     ]
    }
   ],
   "source": [
    "# Generate Classification Report\n",
    "print(classification_report(y_test, y_pred))"
   ]
  },
  {
   "cell_type": "markdown",
   "id": "a911ffb7",
   "metadata": {},
   "source": [
    "From the classification report, we can see Accuracy is 0.77, Precision is 0.77, True Positive Rate (Recall) is 1 and F1 Score is 0.87."
   ]
  },
  {
   "cell_type": "markdown",
   "id": "3d4e64eb",
   "metadata": {},
   "source": [
    "# Decision Tree"
   ]
  },
  {
   "cell_type": "markdown",
   "id": "21003fbc",
   "metadata": {},
   "source": [
    "Here, I am doing Decision Tree for the classification"
   ]
  },
  {
   "cell_type": "code",
   "execution_count": 281,
   "id": "0fe276fc",
   "metadata": {},
   "outputs": [
    {
     "name": "stdout",
     "output_type": "stream",
     "text": [
      "[0 0 1 1 1 1 0 0 1 0 1 0 0 1 1 1 0 1 1 0 1 1 0 0 0 1 1 0 1 1 1 0 1 0 1 1 1\n",
      " 1 1 0 1 0 0 1 0 1 1 1 1 1 0 1 1 1 1 0 1 1 0 1 0 1]\n"
     ]
    }
   ],
   "source": [
    "# Imported library for Decision Tree\n",
    "from sklearn import tree\n",
    "\n",
    "# Created object of Decision Tree\n",
    "dt = tree.DecisionTreeClassifier()\n",
    "\n",
    "# KNN model is trained with training data x_train and y_train\n",
    "dt.fit(x_train, y_train)\n",
    "\n",
    "# Predict the loan status with the KNN model by passing the test data\n",
    "y_pred = dt.predict(x_test)\n",
    "\n",
    "print(y_pred)"
   ]
  },
  {
   "cell_type": "markdown",
   "id": "07bb082c",
   "metadata": {},
   "source": [
    "Now, I am printing the evaluation metrics of the model."
   ]
  },
  {
   "cell_type": "code",
   "execution_count": 282,
   "id": "1490ea35",
   "metadata": {},
   "outputs": [
    {
     "name": "stdout",
     "output_type": "stream",
     "text": [
      "Accuracy of the Decision Tree Model is 0.5\n",
      "Precision of the Decision Tree Model is 0.717948717948718\n",
      "True Positive Rate (Recall) of the Decision Tree Model is 0.5833333333333334\n",
      "F Score of the Decision Tree Model is 0.6436781609195402\n",
      "True Negative Rate(Specificity) of the Decision Tree Model is 0.21428571428571427\n"
     ]
    }
   ],
   "source": [
    "ModelEvaluation(\"Decision Tree\", y_test, y_pred)"
   ]
  },
  {
   "cell_type": "markdown",
   "id": "8bd486d9",
   "metadata": {},
   "source": [
    "Now, I am using GridSearchCV to get the best hyperparameter for the Decision Tree model"
   ]
  },
  {
   "cell_type": "code",
   "execution_count": 283,
   "id": "257e7f59",
   "metadata": {},
   "outputs": [
    {
     "name": "stdout",
     "output_type": "stream",
     "text": [
      "{'criterion': 'gini', 'max_depth': 1, 'min_samples_leaf': 1, 'min_samples_split': 2}\n"
     ]
    },
    {
     "name": "stderr",
     "output_type": "stream",
     "text": [
      "C:\\Users\\Sandeep\\anaconda3\\lib\\site-packages\\sklearn\\model_selection\\_validation.py:372: FitFailedWarning: \n",
      "2000 fits failed out of a total of 20000.\n",
      "The score on these train-test partitions for these parameters will be set to nan.\n",
      "If these failures are not expected, you can try to debug them by setting error_score='raise'.\n",
      "\n",
      "Below are more details about the failures:\n",
      "--------------------------------------------------------------------------------\n",
      "2000 fits failed with the following error:\n",
      "Traceback (most recent call last):\n",
      "  File \"C:\\Users\\Sandeep\\anaconda3\\lib\\site-packages\\sklearn\\model_selection\\_validation.py\", line 680, in _fit_and_score\n",
      "    estimator.fit(X_train, y_train, **fit_params)\n",
      "  File \"C:\\Users\\Sandeep\\anaconda3\\lib\\site-packages\\sklearn\\tree\\_classes.py\", line 937, in fit\n",
      "    super().fit(\n",
      "  File \"C:\\Users\\Sandeep\\anaconda3\\lib\\site-packages\\sklearn\\tree\\_classes.py\", line 250, in fit\n",
      "    raise ValueError(\n",
      "ValueError: min_samples_split must be an integer greater than 1 or a float in (0.0, 1.0]; got the integer 1\n",
      "\n",
      "  warnings.warn(some_fits_failed_message, FitFailedWarning)\n",
      "C:\\Users\\Sandeep\\anaconda3\\lib\\site-packages\\sklearn\\model_selection\\_search.py:969: UserWarning: One or more of the test scores are non-finite: [       nan 0.738      0.738      ... 0.71733333 0.71733333 0.71733333]\n",
      "  warnings.warn(\n"
     ]
    }
   ],
   "source": [
    "# Define the hyperparameter grid\n",
    "param_grid = {'max_depth': range(1, 11),\n",
    "              'min_samples_leaf': range(1, 11),\n",
    "              'min_samples_split': range(1, 11),\n",
    "              'criterion': ['gini', 'entropy']}\n",
    "\n",
    "# Created object of Decision Tree\n",
    "dt = tree.DecisionTreeClassifier()\n",
    "\n",
    "# Create the GridSearchCV object\n",
    "grid_search = GridSearchCV(estimator=dt, param_grid=param_grid, cv=10)\n",
    "\n",
    "# Fit the model to the training data\n",
    "grid_search.fit(x_train, y_train)\n",
    "\n",
    "# Print the best combination of hyperparameters\n",
    "print(grid_search.best_params_)"
   ]
  },
  {
   "cell_type": "markdown",
   "id": "f0d5c6e4",
   "metadata": {},
   "source": [
    "Here, I found out that Decision Tree model with Maximum depth 1, Minimum samples leaf 1, Minimum samples split 2 and criterion 'gini', gives the best result. Now, I am going to predict this Decision Tree model and evaluate the results."
   ]
  },
  {
   "cell_type": "code",
   "execution_count": 284,
   "id": "0dc32134",
   "metadata": {},
   "outputs": [
    {
     "name": "stdout",
     "output_type": "stream",
     "text": [
      "[1 1 1 1 1 1 1 1 1 1 1 1 1 1 1 1 1 1 1 1 1 1 1 1 1 1 1 1 1 1 1 1 1 1 1 1 1\n",
      " 1 1 1 1 1 1 1 1 1 1 1 1 1 1 1 1 1 1 1 1 1 1 1 1 1]\n"
     ]
    }
   ],
   "source": [
    "# Predict the loan status with the Decision Tree model by passing the test data\n",
    "y_pred = grid_search.predict(x_test)\n",
    "\n",
    "print(y_pred)"
   ]
  },
  {
   "cell_type": "markdown",
   "id": "b26c2fc1",
   "metadata": {},
   "source": [
    "Now, I am printing the evaluation metrics of the model."
   ]
  },
  {
   "cell_type": "code",
   "execution_count": 285,
   "id": "80b8a56b",
   "metadata": {},
   "outputs": [
    {
     "name": "stdout",
     "output_type": "stream",
     "text": [
      "Accuracy of the Decision Tree Model is 0.7741935483870968\n",
      "Precision of the Decision Tree Model is 0.7741935483870968\n",
      "True Positive Rate (Recall) of the Decision Tree Model is 1.0\n",
      "F Score of the Decision Tree Model is 0.8727272727272727\n",
      "True Negative Rate(Specificity) of the Decision Tree Model is 0.0\n"
     ]
    }
   ],
   "source": [
    "ModelEvaluation(\"Decision Tree\", y_test, y_pred)"
   ]
  },
  {
   "cell_type": "markdown",
   "id": "5bfec8e9",
   "metadata": {},
   "source": [
    "Here, we can see there is improvement of the performance when the Maximum depth is 1, Minimum samples leaf is 1, Minimum samples split is 2 and criterion is 'gini'. I am going to generate the confusion matrix and the classification report of the model."
   ]
  },
  {
   "cell_type": "code",
   "execution_count": 286,
   "id": "4461f7e8",
   "metadata": {},
   "outputs": [
    {
     "data": {
      "image/png": "[encoded data removed]",
      "text/plain": [
       "<Figure size 432x288 with 1 Axes>"
      ]
     },
     "metadata": {
      "needs_background": "light"
     },
     "output_type": "display_data"
    }
   ],
   "source": [
    "# Plot the confusion matrix\n",
    "Plot_confusion_matrix(y_test, y_pred)"
   ]
  },
  {
   "cell_type": "markdown",
   "id": "cb03d650",
   "metadata": {},
   "source": [
    "From the Confusion Matrix generated, we can see True Positive is 48, True Negative is 0, False Positive is 14 and False Negative is 0."
   ]
  },
  {
   "cell_type": "code",
   "execution_count": 287,
   "id": "05a98538",
   "metadata": {},
   "outputs": [
    {
     "name": "stdout",
     "output_type": "stream",
     "text": [
      "              precision    recall  f1-score   support\n",
      "\n",
      "           0       0.00      0.00      0.00        14\n",
      "           1       0.77      1.00      0.87        48\n",
      "\n",
      "    accuracy                           0.77        62\n",
      "   macro avg       0.39      0.50      0.44        62\n",
      "weighted avg       0.60      0.77      0.68        62\n",
      "\n"
     ]
    },
    {
     "name": "stderr",
     "output_type": "stream",
     "text": [
      "C:\\Users\\Sandeep\\anaconda3\\lib\\site-packages\\sklearn\\metrics\\_classification.py:1318: UndefinedMetricWarning: Precision and F-score are ill-defined and being set to 0.0 in labels with no predicted samples. Use `zero_division` parameter to control this behavior.\n",
      "  _warn_prf(average, modifier, msg_start, len(result))\n",
      "C:\\Users\\Sandeep\\anaconda3\\lib\\site-packages\\sklearn\\metrics\\_classification.py:1318: UndefinedMetricWarning: Precision and F-score are ill-defined and being set to 0.0 in labels with no predicted samples. Use `zero_division` parameter to control this behavior.\n",
      "  _warn_prf(average, modifier, msg_start, len(result))\n",
      "C:\\Users\\Sandeep\\anaconda3\\lib\\site-packages\\sklearn\\metrics\\_classification.py:1318: UndefinedMetricWarning: Precision and F-score are ill-defined and being set to 0.0 in labels with no predicted samples. Use `zero_division` parameter to control this behavior.\n",
      "  _warn_prf(average, modifier, msg_start, len(result))\n"
     ]
    }
   ],
   "source": [
    "# Generate Classification Report\n",
    "print(classification_report(y_test, y_pred))"
   ]
  },
  {
   "cell_type": "markdown",
   "id": "9d84a711",
   "metadata": {},
   "source": [
    "From the classification report, we can see Accuracy is 0.77, Precision is 0.77, True Positive Rate (Recall) is 1 and F1 Score is 0.87."
   ]
  },
  {
   "cell_type": "markdown",
   "id": "09155254",
   "metadata": {},
   "source": [
    "# Support Vector Machine (SVM)"
   ]
  },
  {
   "cell_type": "markdown",
   "id": "b1e86c4e",
   "metadata": {},
   "source": [
    "Here, I am doing Support Vector Machine (SVM) for the classification"
   ]
  },
  {
   "cell_type": "code",
   "execution_count": 288,
   "id": "fec63d79",
   "metadata": {},
   "outputs": [
    {
     "name": "stdout",
     "output_type": "stream",
     "text": [
      "[1 1 1 1 1 1 1 1 1 1 1 1 1 1 1 1 1 1 1 1 1 1 1 1 1 1 1 1 1 1 1 1 1 1 1 1 1\n",
      " 1 1 1 1 1 1 1 1 1 1 1 1 1 1 1 1 1 1 1 1 1 1 1 1 1]\n"
     ]
    }
   ],
   "source": [
    "# Imported library for Support Vector Machine (SVM)\n",
    "from sklearn.svm import SVC\n",
    "\n",
    "# Created object of Support Vector Classifier\n",
    "svm = SVC(kernel='sigmoid', C=1, random_state = 50)\n",
    "\n",
    "# SVM model is trained with training data x_train and y_train\n",
    "svm.fit(x_train, y_train)\n",
    "\n",
    "# Predict the loan status with the SVM model by passing the test data\n",
    "y_pred = svm.predict(x_test)\n",
    "\n",
    "print(y_pred)"
   ]
  },
  {
   "cell_type": "markdown",
   "id": "cb72950a",
   "metadata": {},
   "source": [
    "Now, I am printing the evaluation metrics of the model."
   ]
  },
  {
   "cell_type": "code",
   "execution_count": 289,
   "id": "c149b0ef",
   "metadata": {},
   "outputs": [
    {
     "name": "stdout",
     "output_type": "stream",
     "text": [
      "Accuracy of the Support Vector Machine (SVM) Model is 0.7741935483870968\n",
      "Precision of the Support Vector Machine (SVM) Model is 0.7741935483870968\n",
      "True Positive Rate (Recall) of the Support Vector Machine (SVM) Model is 1.0\n",
      "F Score of the Support Vector Machine (SVM) Model is 0.8727272727272727\n",
      "True Negative Rate(Specificity) of the Support Vector Machine (SVM) Model is 0.0\n"
     ]
    }
   ],
   "source": [
    "ModelEvaluation(\"Support Vector Machine (SVM)\", y_test, y_pred)"
   ]
  },
  {
   "cell_type": "markdown",
   "id": "984890a9",
   "metadata": {},
   "source": [
    "Now, I am using GridSearchCV to get the best hyperparameter for the SVM model"
   ]
  },
  {
   "cell_type": "code",
   "execution_count": 290,
   "id": "6d94a62c",
   "metadata": {},
   "outputs": [
    {
     "name": "stdout",
     "output_type": "stream",
     "text": [
      "{'C': 0.1, 'gamma': 1, 'kernel': 'linear'}\n"
     ]
    }
   ],
   "source": [
    "# Imported the library for the uniform function\n",
    "from scipy.stats import uniform\n",
    "\n",
    "# Define the hyperparameter grid\n",
    "param_grid = {\n",
    "    'C': np.logspace(-1, 1, 10),\n",
    "    'kernel': ['linear', 'rbf', 'sigmoid'],    \n",
    "    '12h ':  [1, 0.1, 0.01, 0.001, 0.0001]\n",
    "}\n",
    "\n",
    "# Created object of SVM\n",
    "svm = SVC(random_state = 55)\n",
    "\n",
    "# Create the GridSearchCV object\n",
    "grid_search = GridSearchCV(estimator=svm, param_grid=param_grid, cv=10)\n",
    "\n",
    "# Fit the model to the training data\n",
    "grid_search.fit(x_train, y_train)\n",
    "\n",
    "# Print the best combination of hyperparameters\n",
    "print(grid_search.best_params_)"
   ]
  },
  {
   "cell_type": "markdown",
   "id": "cfebc43d",
   "metadata": {},
   "source": [
    "Here, I found out that Support Vector Machine (SVM) model with C 0.1, gamma 1 and kernel 'linear', gives the best result. Now, I am going to predict this SVM model and evaluate the results."
   ]
  },
  {
   "cell_type": "code",
   "execution_count": 291,
   "id": "7083f03d",
   "metadata": {},
   "outputs": [
    {
     "name": "stdout",
     "output_type": "stream",
     "text": [
      "[1 1 1 1 1 1 1 1 1 1 1 1 1 1 1 1 1 1 1 1 1 1 1 1 1 1 1 1 1 1 1 1 1 1 1 1 1\n",
      " 1 1 1 1 1 1 1 1 1 1 1 1 1 1 1 1 1 1 1 1 1 1 1 1 1]\n"
     ]
    }
   ],
   "source": [
    "# Predict the loan status with the SVM model by passing the test data\n",
    "y_pred = grid_search.predict(x_test)\n",
    "\n",
    "print(y_pred)"
   ]
  },
  {
   "cell_type": "code",
   "execution_count": 292,
   "id": "cdda5d4f",
   "metadata": {},
   "outputs": [
    {
     "name": "stdout",
     "output_type": "stream",
     "text": [
      "Accuracy of the Support Vector Machine (SVM) Model is 0.7741935483870968\n",
      "Precision of the Support Vector Machine (SVM) Model is 0.7741935483870968\n",
      "True Positive Rate (Recall) of the Support Vector Machine (SVM) Model is 1.0\n",
      "F Score of the Support Vector Machine (SVM) Model is 0.8727272727272727\n",
      "True Negative Rate(Specificity) of the Support Vector Machine (SVM) Model is 0.0\n"
     ]
    }
   ],
   "source": [
    "ModelEvaluation(\"Support Vector Machine (SVM)\", y_test, y_pred)"
   ]
  },
  {
   "cell_type": "markdown",
   "id": "afae5fcf",
   "metadata": {},
   "source": [
    "Here, we can see there is no difference of the performance when the C is 0.1, gamma is 1 and kernel is 'linear'. Now, I am going to generate the confusion matrix and the classification report of the model."
   ]
  },
  {
   "cell_type": "code",
   "execution_count": 293,
   "id": "8473ffd0",
   "metadata": {},
   "outputs": [
    {
     "data": {
      "image/png": "[encoded data removed]",
      "text/plain": [
       "<Figure size 432x288 with 1 Axes>"
      ]
     },
     "metadata": {
      "needs_background": "light"
     },
     "output_type": "display_data"
    }
   ],
   "source": [
    "# Plot the confusion matrix\n",
    "Plot_confusion_matrix(y_test, y_pred)"
   ]
  },
  {
   "cell_type": "markdown",
   "id": "5de91008",
   "metadata": {},
   "source": [
    "From the Confusion Matrix generated, we can see True Positive is 48, True Negative is 0, False Positive is 14 and False Negative is 0."
   ]
  },
  {
   "cell_type": "code",
   "execution_count": 294,
   "id": "3d54f6f1",
   "metadata": {},
   "outputs": [
    {
     "name": "stdout",
     "output_type": "stream",
     "text": [
      "              precision    recall  f1-score   support\n",
      "\n",
      "           0       0.00      0.00      0.00        14\n",
      "           1       0.77      1.00      0.87        48\n",
      "\n",
      "    accuracy                           0.77        62\n",
      "   macro avg       0.39      0.50      0.44        62\n",
      "weighted avg       0.60      0.77      0.68        62\n",
      "\n"
     ]
    },
    {
     "name": "stderr",
     "output_type": "stream",
     "text": [
      "C:\\Users\\Sandeep\\anaconda3\\lib\\site-packages\\sklearn\\metrics\\_classification.py:1318: UndefinedMetricWarning: Precision and F-score are ill-defined and being set to 0.0 in labels with no predicted samples. Use `zero_division` parameter to control this behavior.\n",
      "  _warn_prf(average, modifier, msg_start, len(result))\n",
      "C:\\Users\\Sandeep\\anaconda3\\lib\\site-packages\\sklearn\\metrics\\_classification.py:1318: UndefinedMetricWarning: Precision and F-score are ill-defined and being set to 0.0 in labels with no predicted samples. Use `zero_division` parameter to control this behavior.\n",
      "  _warn_prf(average, modifier, msg_start, len(result))\n",
      "C:\\Users\\Sandeep\\anaconda3\\lib\\site-packages\\sklearn\\metrics\\_classification.py:1318: UndefinedMetricWarning: Precision and F-score are ill-defined and being set to 0.0 in labels with no predicted samples. Use `zero_division` parameter to control this behavior.\n",
      "  _warn_prf(average, modifier, msg_start, len(result))\n"
     ]
    }
   ],
   "source": [
    "# Generate Classification Report\n",
    "print(classification_report(y_test, y_pred))"
   ]
  },
  {
   "cell_type": "markdown",
   "id": "161ddbb1",
   "metadata": {},
   "source": [
    "From the classification report, we can see Accuracy is 0.77, Precision is 0.77, True Positive Rate (Recall) is 1 and F1 Score is 0.87."
   ]
  },
  {
   "cell_type": "markdown",
   "id": "b141552c",
   "metadata": {},
   "source": [
    "# Conclusion"
   ]
  },
  {
   "cell_type": "markdown",
   "id": "1f3be252",
   "metadata": {},
   "source": [
    "Initially, I done data exploration and preprocessing of the dataset. When done data exploration, I found out there are no null values. But, there are 40 duplicate rows. I deleted these duplicate rows. Then, I dropped features 'effective_date' and 'due_date', which are insignificant features for the evaluation. Then, converted categorical features 'loan_status', 'education' and 'Gender' to numerical values and assigned these values to new features 'loan_status_n' 'education_n' and 'Gender_n' respectively. Then, dropped the existing featues 'loan_status', 'education' and 'Gender'.\n",
    "\n",
    "Then, I created the Classification models with Logistic Regression, KNN, Decision Tree and SVM models. Then, done hyperparameter tuning with GridSearchCV and compared the results with the existing evaluation result. Then, plotted the Confusion Matrix and generated the Classification Report.\n",
    "\n",
    "Initially, I created Logistics Regression Model and got Accuracy as 0.7741935483870968, Precision as 0.7741935483870968, True Positive Rate (Recall) as 1.0, F Score as 0.8727272727272727 and True Negative Rate(Specificity) of the Logistics Regression Model as 0.0. Since there is no common hyperparameter for Logistics Regression, I am not doing hyperparameter tuning.\n",
    "\n",
    "Then, I created K-Nearest Neighbors (KNN) Model with hyperparameter value of 'No of Neighbors' as 5. I got Accuracy as 0.6774193548387096, Precision as 0.7592592592592593, True Positive Rate (Recall) as 0.8541666666666666, F Score as 0.8039215686274509 and True Negative Rate(Specificity) of the KNN Model as 0.07142857142857142. I done the hyperparameter tuning and got the best parameter for 'No of Neighbors' as 29. Then, predicted the model with the new hyperparameter. I saw there is improvement in the performance after hyperparameter tuning. After hyperparameter tuning, I got Accuracy as 0.7741935483870968, Precision as 0.7741935483870968, True Positive Rate (Recall) as 1.0, F Score as 0.8727272727272727 and True Negative Rate(Specificity) of the Logistics Regression Model as 0.0.\n",
    "\n",
    "Then, I created Decision Tree Model and got Accuracy as 0.5, Precision as 0.717948717948718, True Positive Rate (Recall) as 0.5833333333333334, F Score as 0.6436781609195402 and True Negative Rate(Specificity) of the Decision Tree Model as 0.21428571428571427. I done the hyperparameter tuning and got the best parameters for Maximum depth as 1, Minimum samples leaf as 1, Minimum samples split as 2 and criterion as 'gini'. Then, predicted the model with new hyperparameters. I saw there is improvement in the performance after hyperparameter tuning. After hyperparameter tuning, I got Accuracy as 0.7741935483870968, Precision as 0.7741935483870968, True Positive Rate (Recall) as 1.0, F Score as 0.8727272727272727 and True Negative Rate(Specificity) of the Logistics Regression Model as 0.0.\n",
    "\n",
    "Then, I created Support Vector Machine (SVM) Model with hyperparameter values of kernel as 'sigmoid' and C as 1. Accuracy as 0.7741935483870968, Precision as 0.7741935483870968, True Positive Rate (Recall) as 1.0, F Score as 0.8727272727272727 and True Negative Rate(Specificity) of the SVM Model as 0.0. I done the hyperparameter tuning and got the best parameter for C as 0.1, gamma as 1 and kernel as 'linear'. Then, predicted the model with new hyperparameters. The evaluation result is same here, even after the hyperparameter tuning.\n",
    "\n",
    "Initially, I got different evaluation results for Logistic Regression, KNN, Decision Tree and SVM models. But, after the hyperparameter tuning, I got same evaluation results for all these models."
   ]
  }
 ],
 "metadata": {
  "kernelspec": {
   "display_name": "Python 3 (ipykernel)",
   "language": "python",
   "name": "python3"
  },
  "language_info": {
   "codemirror_mode": {
    "name": "ipython",
    "version": 3
   },
   "file_extension": ".py",
   "mimetype": "text/x-python",
   "name": "python",
   "nbconvert_exporter": "python",
   "pygments_lexer": "ipython3",
   "version": "3.9.12"
  }
 },
 "nbformat": 4,
 "nbformat_minor": 5
}
